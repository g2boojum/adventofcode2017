{
 "cells": [
  {
   "cell_type": "markdown",
   "metadata": {},
   "source": [
    "### puzzle 1 ###"
   ]
  },
  {
   "cell_type": "code",
   "execution_count": 3,
   "metadata": {
    "collapsed": true
   },
   "outputs": [],
   "source": [
    "def filter_cancels(instr):\n",
    "    newstr = []\n",
    "    pos = 0\n",
    "    while pos < len(instr):\n",
    "        c = instr[pos]\n",
    "        if c != '!':\n",
    "            newstr.append(c)\n",
    "            pos += 1\n",
    "        else:\n",
    "            pos += 2\n",
    "    return ''.join(newstr)"
   ]
  },
  {
   "cell_type": "code",
   "execution_count": 4,
   "metadata": {},
   "outputs": [
    {
     "data": {
      "text/plain": [
       "'{abc{}<>}'"
      ]
     },
     "execution_count": 4,
     "metadata": {},
     "output_type": "execute_result"
    }
   ],
   "source": [
    "filter_cancels('{abc{}<!>>}')"
   ]
  },
  {
   "cell_type": "code",
   "execution_count": 5,
   "metadata": {
    "collapsed": true
   },
   "outputs": [],
   "source": [
    "def filter_garbage(instr):\n",
    "    newstr = []\n",
    "    pos = 0\n",
    "    isgarbage = False\n",
    "    while pos < len(instr):\n",
    "        c = instr[pos]\n",
    "        pos += 1\n",
    "        if c == '<':\n",
    "            isgarbage = True\n",
    "            continue\n",
    "        elif c == '>':\n",
    "            isgarbage = False\n",
    "            continue\n",
    "        if not isgarbage:\n",
    "            newstr.append(c)\n",
    "    return ''.join(newstr)\n",
    "            \n",
    "        "
   ]
  },
  {
   "cell_type": "code",
   "execution_count": 7,
   "metadata": {},
   "outputs": [
    {
     "data": {
      "text/plain": [
       "'{abc{}}'"
      ]
     },
     "execution_count": 7,
     "metadata": {},
     "output_type": "execute_result"
    }
   ],
   "source": [
    "filter_garbage('{abc{}<<jll>}')"
   ]
  },
  {
   "cell_type": "code",
   "execution_count": 8,
   "metadata": {
    "collapsed": true
   },
   "outputs": [],
   "source": [
    "def compute_score(instr):\n",
    "    sum = 0\n",
    "    curr_val = 0\n",
    "    for c in instr:\n",
    "        if c == '{':\n",
    "            curr_val += 1\n",
    "        if c == '}':\n",
    "            sum += curr_val\n",
    "            curr_val -= 1\n",
    "    return sum"
   ]
  },
  {
   "cell_type": "code",
   "execution_count": 12,
   "metadata": {},
   "outputs": [],
   "source": [
    "assert(6 == compute_score(filter_garbage(filter_cancels('{{{}}}'))))\n",
    "assert(16 == compute_score(filter_garbage(filter_cancels('{{{},{},{{}}}}'))))\n",
    "assert(9 == compute_score(filter_garbage(filter_cancels('{{<!!>},{<!!>},{<!!>},{<!!>}}'))))\n"
   ]
  },
  {
   "cell_type": "code",
   "execution_count": 13,
   "metadata": {},
   "outputs": [
    {
     "data": {
      "text/plain": [
       "'C:\\\\Users\\\\hx20905\\\\Documents'"
      ]
     },
     "execution_count": 13,
     "metadata": {},
     "output_type": "execute_result"
    }
   ],
   "source": [
    "pwd"
   ]
  },
  {
   "cell_type": "code",
   "execution_count": 14,
   "metadata": {
    "collapsed": true
   },
   "outputs": [],
   "source": [
    "data = open('day9_input.txt').read()"
   ]
  },
  {
   "cell_type": "code",
   "execution_count": 16,
   "metadata": {},
   "outputs": [
    {
     "data": {
      "text/plain": [
       "23588"
      ]
     },
     "execution_count": 16,
     "metadata": {},
     "output_type": "execute_result"
    }
   ],
   "source": [
    "compute_score(filter_garbage(filter_cancels(data)))"
   ]
  },
  {
   "cell_type": "markdown",
   "metadata": {},
   "source": [
    "### puzzle 2 ###"
   ]
  },
  {
   "cell_type": "code",
   "execution_count": 19,
   "metadata": {
    "collapsed": true
   },
   "outputs": [],
   "source": [
    "def count_garbage(instr):\n",
    "    sum = 0\n",
    "    in_garbage = False\n",
    "    for c in instr:\n",
    "        if not in_garbage:\n",
    "            if c == '<':\n",
    "                in_garbage = True\n",
    "                continue\n",
    "        else:\n",
    "            if c == '>':\n",
    "                in_garbage = False\n",
    "                continue\n",
    "            sum += 1\n",
    "    return sum"
   ]
  },
  {
   "cell_type": "code",
   "execution_count": 28,
   "metadata": {},
   "outputs": [],
   "source": [
    "assert(17 == count_garbage(filter_cancels('<random characters>')))\n",
    "assert(0 == count_garbage(filter_cancels('<!!!>>')))\n",
    "assert(10 == count_garbage(filter_cancels('<{o\"i!a,<{i<a>')))\n"
   ]
  },
  {
   "cell_type": "code",
   "execution_count": 29,
   "metadata": {},
   "outputs": [
    {
     "data": {
      "text/plain": [
       "10045"
      ]
     },
     "execution_count": 29,
     "metadata": {},
     "output_type": "execute_result"
    }
   ],
   "source": [
    "count_garbage(filter_cancels(data))"
   ]
  },
  {
   "cell_type": "code",
   "execution_count": null,
   "metadata": {
    "collapsed": true
   },
   "outputs": [],
   "source": []
  }
 ],
 "metadata": {
  "kernelspec": {
   "display_name": "Python 3",
   "language": "python",
   "name": "python3"
  },
  "language_info": {
   "codemirror_mode": {
    "name": "ipython",
    "version": 3
   },
   "file_extension": ".py",
   "mimetype": "text/x-python",
   "name": "python",
   "nbconvert_exporter": "python",
   "pygments_lexer": "ipython3",
   "version": "3.6.1"
  }
 },
 "nbformat": 4,
 "nbformat_minor": 2
}
