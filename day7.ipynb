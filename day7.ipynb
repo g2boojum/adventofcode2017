{
 "cells": [
  {
   "cell_type": "code",
   "execution_count": 1,
   "metadata": {},
   "outputs": [],
   "source": [
    "%matplotlib inline\n",
    "import networkx as nx\n",
    "import matplotlib.pyplot as plt"
   ]
  },
  {
   "cell_type": "markdown",
   "metadata": {},
   "source": [
    "### puzzle 1 ###"
   ]
  },
  {
   "cell_type": "code",
   "execution_count": 2,
   "metadata": {},
   "outputs": [],
   "source": [
    "test_data = \"\"\"pbga (66)\n",
    "xhth (57)\n",
    "ebii (61)\n",
    "havc (66)\n",
    "ktlj (57)\n",
    "fwft (72) -> ktlj, cntj, xhth\n",
    "qoyq (66)\n",
    "padx (45) -> pbga, havc, qoyq\n",
    "tknk (41) -> ugml, padx, fwft\n",
    "jptl (61)\n",
    "ugml (68) -> gyxo, ebii, jptl\n",
    "gyxo (61)\n",
    "cntj (57)\"\"\".split('\\n')\n",
    "puzzle_data = open('day7_input').readlines()"
   ]
  },
  {
   "cell_type": "markdown",
   "metadata": {},
   "source": [
    "Parse the data to create a set of nodes w/ the weight of each node (a dictionary called \"weights\"). If the node points to other nodes, then add each directed connection as a tuple to a list of connections (called \"connections\")."
   ]
  },
  {
   "cell_type": "code",
   "execution_count": 3,
   "metadata": {},
   "outputs": [],
   "source": [
    "def parse_nodes_and_connections(lines):\n",
    "    connections = []\n",
    "    weights = {}\n",
    "    for line in lines:\n",
    "        items = line.split()\n",
    "        node = items[0]\n",
    "        weight = int(items[1][1:-1])\n",
    "        weights[node] = weight\n",
    "        if '->' in line:\n",
    "            rhs = line.split('>')\n",
    "            connected_nodes = [cn.strip() for cn in rhs[1].split(',')]\n",
    "            for cn in connected_nodes:\n",
    "                connections.append((node, cn))\n",
    "    return weights, connections"
   ]
  },
  {
   "cell_type": "code",
   "execution_count": 4,
   "metadata": {},
   "outputs": [],
   "source": [
    "test_weights, test_connections = parse_nodes_and_connections(test_data)"
   ]
  },
  {
   "cell_type": "code",
   "execution_count": 5,
   "metadata": {},
   "outputs": [
    {
     "data": {
      "text/plain": [
       "{'cntj': 57,\n",
       " 'ebii': 61,\n",
       " 'fwft': 72,\n",
       " 'gyxo': 61,\n",
       " 'havc': 66,\n",
       " 'jptl': 61,\n",
       " 'ktlj': 57,\n",
       " 'padx': 45,\n",
       " 'pbga': 66,\n",
       " 'qoyq': 66,\n",
       " 'tknk': 41,\n",
       " 'ugml': 68,\n",
       " 'xhth': 57}"
      ]
     },
     "execution_count": 5,
     "metadata": {},
     "output_type": "execute_result"
    }
   ],
   "source": [
    "test_weights"
   ]
  },
  {
   "cell_type": "code",
   "execution_count": 6,
   "metadata": {},
   "outputs": [
    {
     "data": {
      "text/plain": [
       "[('fwft', 'ktlj'),\n",
       " ('fwft', 'cntj'),\n",
       " ('fwft', 'xhth'),\n",
       " ('padx', 'pbga'),\n",
       " ('padx', 'havc'),\n",
       " ('padx', 'qoyq'),\n",
       " ('tknk', 'ugml'),\n",
       " ('tknk', 'padx'),\n",
       " ('tknk', 'fwft'),\n",
       " ('ugml', 'gyxo'),\n",
       " ('ugml', 'ebii'),\n",
       " ('ugml', 'jptl')]"
      ]
     },
     "execution_count": 6,
     "metadata": {},
     "output_type": "execute_result"
    }
   ],
   "source": [
    "test_connections "
   ]
  },
  {
   "cell_type": "code",
   "execution_count": 7,
   "metadata": {},
   "outputs": [],
   "source": [
    "G = nx.DiGraph(test_connections)"
   ]
  },
  {
   "cell_type": "code",
   "execution_count": 8,
   "metadata": {},
   "outputs": [
    {
     "data": {
      "image/png": "[encoded data removed]",
      "text/plain": [
       "<matplotlib.figure.Figure at 0x14e1998e65c0>"
      ]
     },
     "metadata": {},
     "output_type": "display_data"
    }
   ],
   "source": [
    "nx.draw(G, with_labels=True, font_weight='bold')"
   ]
  },
  {
   "cell_type": "markdown",
   "metadata": {},
   "source": [
    "Any node on the RHS of a connection cannot be at the bottom of the tower. So, it's easy to find the nodes at the bottom using set subtraction:"
   ]
  },
  {
   "cell_type": "code",
   "execution_count": 9,
   "metadata": {},
   "outputs": [],
   "source": [
    "not_bottom = set([connection[1] for connection in test_connections])\n",
    "bottom = set(test_weights.keys()) - not_bottom"
   ]
  },
  {
   "cell_type": "code",
   "execution_count": 10,
   "metadata": {},
   "outputs": [],
   "source": [
    "assert({'tknk'} == bottom)"
   ]
  },
  {
   "cell_type": "code",
   "execution_count": 11,
   "metadata": {},
   "outputs": [
    {
     "data": {
      "text/plain": [
       "{'tknk'}"
      ]
     },
     "execution_count": 11,
     "metadata": {},
     "output_type": "execute_result"
    }
   ],
   "source": [
    "bottom"
   ]
  },
  {
   "cell_type": "code",
   "execution_count": 12,
   "metadata": {},
   "outputs": [],
   "source": [
    "weights, connections = parse_nodes_and_connections(puzzle_data)"
   ]
  },
  {
   "cell_type": "code",
   "execution_count": 13,
   "metadata": {},
   "outputs": [
    {
     "data": {
      "text/plain": [
       "{'airlri'}"
      ]
     },
     "execution_count": 13,
     "metadata": {},
     "output_type": "execute_result"
    }
   ],
   "source": [
    "not_bottom = set([connection[1] for connection in connections])\n",
    "bottom = set(weights.keys()) - not_bottom\n",
    "bottom"
   ]
  },
  {
   "cell_type": "markdown",
   "metadata": {},
   "source": [
    "### puzzle 2 ###"
   ]
  },
  {
   "cell_type": "code",
   "execution_count": 14,
   "metadata": {},
   "outputs": [],
   "source": [
    "def connection_dict(connections):\n",
    "    cd = {}\n",
    "    for s,t in connections:\n",
    "        if s not in cd:\n",
    "            cd[s] = [t]\n",
    "        else:\n",
    "            cd[s].append(t)\n",
    "    return cd    "
   ]
  },
  {
   "cell_type": "code",
   "execution_count": 15,
   "metadata": {},
   "outputs": [
    {
     "data": {
      "text/plain": [
       "{'fwft': ['ktlj', 'cntj', 'xhth'],\n",
       " 'padx': ['pbga', 'havc', 'qoyq'],\n",
       " 'tknk': ['ugml', 'padx', 'fwft'],\n",
       " 'ugml': ['gyxo', 'ebii', 'jptl']}"
      ]
     },
     "execution_count": 15,
     "metadata": {},
     "output_type": "execute_result"
    }
   ],
   "source": [
    "test_cd = connection_dict(test_connections)\n",
    "test_cd"
   ]
  },
  {
   "cell_type": "code",
   "execution_count": 16,
   "metadata": {},
   "outputs": [],
   "source": [
    "def tower_weight(base, conn_dict, weights):\n",
    "    weight = weights[base]\n",
    "    if base not in conn_dict:\n",
    "        return weight\n",
    "    for node in conn_dict[base]:\n",
    "        weight += tower_weight(node, conn_dict, weights)\n",
    "    return weight"
   ]
  },
  {
   "cell_type": "code",
   "execution_count": 17,
   "metadata": {},
   "outputs": [],
   "source": [
    "assert(61 == tower_weight('gyxo', test_cd, test_weights))"
   ]
  },
  {
   "cell_type": "code",
   "execution_count": 18,
   "metadata": {},
   "outputs": [],
   "source": [
    "assert(251 == tower_weight('ugml', test_cd, test_weights))"
   ]
  },
  {
   "cell_type": "code",
   "execution_count": 19,
   "metadata": {},
   "outputs": [],
   "source": [
    "cd = connection_dict(connections)"
   ]
  },
  {
   "cell_type": "code",
   "execution_count": 20,
   "metadata": {},
   "outputs": [
    {
     "data": {
      "text/plain": [
       "[('pidgnp', 152523),\n",
       " ('lljifba', 152514),\n",
       " ('gmewl', 152514),\n",
       " ('tbedct', 152514),\n",
       " ('ryvidhy', 152514),\n",
       " ('rdytzgp', 152514)]"
      ]
     },
     "execution_count": 20,
     "metadata": {},
     "output_type": "execute_result"
    }
   ],
   "source": [
    "[(node, tower_weight(node, cd, weights)) for node in cd['airlri']]"
   ]
  },
  {
   "cell_type": "code",
   "execution_count": 21,
   "metadata": {},
   "outputs": [
    {
     "data": {
      "text/plain": [
       "9"
      ]
     },
     "execution_count": 21,
     "metadata": {},
     "output_type": "execute_result"
    }
   ],
   "source": [
    "imbalance = tower_weight('pidgnp', cd, weights) - tower_weight('lljifba', cd, weights)\n",
    "imbalance"
   ]
  },
  {
   "cell_type": "code",
   "execution_count": 22,
   "metadata": {},
   "outputs": [],
   "source": [
    "def find_problem_node(base, cd, weights):\n",
    "    nodes = [node for node in cd[base]]\n",
    "    wts = [tower_weight(node, cd, weights) for node in nodes]\n",
    "    if len(set(wts)) == 1:\n",
    "        # all weights are the same, meaning this base is the problem node\n",
    "        return base\n",
    "    freqs = {}\n",
    "    for wt in wts:\n",
    "        if wt not in freqs:\n",
    "            freqs[wt] = 1\n",
    "        else:\n",
    "            freqs[wt] += 1\n",
    "    for wt in freqs:\n",
    "        if freqs[wt] == 1: \n",
    "            break\n",
    "    next_node = nodes[wts.index(wt)]\n",
    "    return find_problem_node(next_node, cd, weights)"
   ]
  },
  {
   "cell_type": "code",
   "execution_count": 23,
   "metadata": {},
   "outputs": [
    {
     "data": {
      "text/plain": [
       "'dqwocyn'"
      ]
     },
     "execution_count": 23,
     "metadata": {},
     "output_type": "execute_result"
    }
   ],
   "source": [
    "find_problem_node('airlri', cd, weights)"
   ]
  },
  {
   "cell_type": "code",
   "execution_count": 24,
   "metadata": {},
   "outputs": [
    {
     "name": "stdout",
     "output_type": "stream",
     "text": [
      "1206\n"
     ]
    }
   ],
   "source": [
    "print(weights['dqwocyn'] - imbalance)"
   ]
  },
  {
   "cell_type": "code",
   "execution_count": null,
   "metadata": {},
   "outputs": [],
   "source": []
  }
 ],
 "metadata": {
  "kernelspec": {
   "display_name": "py36",
   "language": "python",
   "name": "py36"
  },
  "language_info": {
   "codemirror_mode": {
    "name": "ipython",
    "version": 3
   },
   "file_extension": ".py",
   "mimetype": "text/x-python",
   "name": "python",
   "nbconvert_exporter": "python",
   "pygments_lexer": "ipython3",
   "version": "3.6.3"
  }
 },
 "nbformat": 4,
 "nbformat_minor": 2
}
