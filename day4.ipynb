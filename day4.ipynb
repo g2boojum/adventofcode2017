{
 "cells": [
  {
   "cell_type": "markdown",
   "metadata": {},
   "source": [
    "### puzzle 1 ###"
   ]
  },
  {
   "cell_type": "code",
   "execution_count": 1,
   "metadata": {},
   "outputs": [],
   "source": [
    "def is_valid(passphrase):\n",
    "    tokens = passphrase.split()\n",
    "    return len(tokens) == len(set(tokens))"
   ]
  },
  {
   "cell_type": "code",
   "execution_count": 2,
   "metadata": {},
   "outputs": [
    {
     "data": {
      "text/plain": [
       "True"
      ]
     },
     "execution_count": 2,
     "metadata": {},
     "output_type": "execute_result"
    }
   ],
   "source": [
    "is_valid(\"aa bb cc dd ee\")"
   ]
  },
  {
   "cell_type": "code",
   "execution_count": 3,
   "metadata": {},
   "outputs": [
    {
     "data": {
      "text/plain": [
       "False"
      ]
     },
     "execution_count": 3,
     "metadata": {},
     "output_type": "execute_result"
    }
   ],
   "source": [
    "is_valid(\"aa bb c dd aa\")"
   ]
  },
  {
   "cell_type": "code",
   "execution_count": 4,
   "metadata": {},
   "outputs": [
    {
     "data": {
      "text/plain": [
       "325"
      ]
     },
     "execution_count": 4,
     "metadata": {},
     "output_type": "execute_result"
    }
   ],
   "source": [
    "lines = open('day4input').readlines()\n",
    "num_valid = 0\n",
    "for line in lines:\n",
    "    if is_valid(line):\n",
    "        num_valid += 1\n",
    "num_valid"
   ]
  },
  {
   "cell_type": "markdown",
   "metadata": {},
   "source": [
    "### puzzle 2 ###"
   ]
  },
  {
   "cell_type": "code",
   "execution_count": 5,
   "metadata": {},
   "outputs": [],
   "source": [
    "import collections"
   ]
  },
  {
   "cell_type": "code",
   "execution_count": 13,
   "metadata": {},
   "outputs": [],
   "source": [
    "def is_valid2(passphrase):\n",
    "    tokens = passphrase.split()\n",
    "    counters = [collections.Counter(token) for token in tokens]\n",
    "    for i, c in enumerate(counters):\n",
    "        for d in counters[i+1:]:\n",
    "            if c == d:\n",
    "                return False\n",
    "    return True"
   ]
  },
  {
   "cell_type": "code",
   "execution_count": 18,
   "metadata": {},
   "outputs": [
    {
     "name": "stdout",
     "output_type": "stream",
     "text": [
      "abcde fghij :  True\n",
      "abcde xyz ecdab :  False\n",
      "a ab abc abd abf abj :  True\n",
      "iiii oiii ooii oooi oooo :  True\n",
      "oiii ioii iioi iiio :  False\n"
     ]
    }
   ],
   "source": [
    "for s in ('abcde fghij',\n",
    "          'abcde xyz ecdab',\n",
    "          'a ab abc abd abf abj',\n",
    "          'iiii oiii ooii oooi oooo',\n",
    "          'oiii ioii iioi iiio'):\n",
    "    print(s, ': ', is_valid2(s))"
   ]
  },
  {
   "cell_type": "code",
   "execution_count": 19,
   "metadata": {},
   "outputs": [
    {
     "data": {
      "text/plain": [
       "119"
      ]
     },
     "execution_count": 19,
     "metadata": {},
     "output_type": "execute_result"
    }
   ],
   "source": [
    "lines = open('day4input').readlines()\n",
    "num_valid = 0\n",
    "for line in lines:\n",
    "    if is_valid2(line):\n",
    "        num_valid += 1\n",
    "num_valid"
   ]
  }
 ],
 "metadata": {
  "kernelspec": {
   "display_name": "py36",
   "language": "python",
   "name": "py36"
  },
  "language_info": {
   "codemirror_mode": {
    "name": "ipython",
    "version": 3
   },
   "file_extension": ".py",
   "mimetype": "text/x-python",
   "name": "python",
   "nbconvert_exporter": "python",
   "pygments_lexer": "ipython3",
   "version": "3.6.3"
  }
 },
 "nbformat": 4,
 "nbformat_minor": 2
}
