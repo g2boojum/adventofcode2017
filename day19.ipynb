{
 "cells": [
  {
   "cell_type": "markdown",
   "metadata": {},
   "source": [
    "### puzzles 1 and 2 ###"
   ]
  },
  {
   "cell_type": "code",
   "execution_count": 1,
   "metadata": {},
   "outputs": [
    {
     "data": {
      "text/plain": [
       "['     |          ',\n",
       " '     |  +--+    ',\n",
       " '     A  |  C    ',\n",
       " ' F---|----E|--+ ',\n",
       " '     |  |  |  D ',\n",
       " '     +B-+  +--+ ']"
      ]
     },
     "execution_count": 1,
     "metadata": {},
     "output_type": "execute_result"
    }
   ],
   "source": [
    "test_input = '''     |          \n",
    "     |  +--+    \n",
    "     A  |  C    \n",
    " F---|----E|--+ \n",
    "     |  |  |  D \n",
    "     +B-+  +--+ \n",
    "'''.split('\\n')[:-1]\n",
    "test_input"
   ]
  },
  {
   "cell_type": "code",
   "execution_count": 2,
   "metadata": {},
   "outputs": [
    {
     "data": {
      "text/plain": [
       "(6, 16)"
      ]
     },
     "execution_count": 2,
     "metadata": {},
     "output_type": "execute_result"
    }
   ],
   "source": [
    "def pathmap_size(pathmap):\n",
    "    numrows = len(pathmap)\n",
    "    numcols = len(pathmap[0])\n",
    "    return numrows, numcols\n",
    "pathmap_size(test_input)"
   ]
  },
  {
   "cell_type": "code",
   "execution_count": 3,
   "metadata": {},
   "outputs": [],
   "source": [
    "def next_pos(pathmap):\n",
    "    nrows,ncols = pathmap_size(pathmap)\n",
    "    chars = set(pathmap[r][c] for r in range(nrows) for c in range(ncols))\n",
    "    letters = chars - set([' ', '+', '-', '|'])\n",
    "    nschars = ('|', '+')\n",
    "    ewchars = ('-', '+')\n",
    "    def schar(r, c):\n",
    "        if r == nrows-1:\n",
    "            return None\n",
    "        return pathmap[r+1][c]\n",
    "    def nchar(r, c):\n",
    "        if r == 0:\n",
    "            return None\n",
    "        return pathmap[r-1][c]\n",
    "    def echar(r, c):\n",
    "        if c == ncols - 1:\n",
    "            return None\n",
    "        return pathmap[r][c+1]\n",
    "    def wchar(r, c):\n",
    "        if c == 0:\n",
    "            return None\n",
    "        return pathmap[r][c-1]\n",
    "    r = 0\n",
    "    c = pathmap[0].index('|')\n",
    "    yield r, c\n",
    "    d = 'S'\n",
    "    while True:\n",
    "        cur_symb = pathmap[r][c]\n",
    "        if cur_symb != '+':\n",
    "            # keep moving in the same direction\n",
    "            if d == 'S':\n",
    "                nextr = r + 1\n",
    "                nextc = c\n",
    "            elif d == 'N':\n",
    "                nextr = r - 1\n",
    "                nextc = c\n",
    "            elif d == 'E':\n",
    "                nextr = r\n",
    "                nextc = c + 1\n",
    "            elif d == 'W':\n",
    "                nextr = r\n",
    "                nextc = c - 1\n",
    "            else:\n",
    "                raise ValueError('Direction not allowed?!')\n",
    "            if nextr < 0 or nextr >= nrows or nextc < 0 or nextc > ncols:\n",
    "                return #must be at the end, and the end was on a boundary of the map\n",
    "            if pathmap[nextr][nextc] == ' ':\n",
    "                return #we found the end!\n",
    "            r = nextr\n",
    "            c = nextc\n",
    "            yield r, c\n",
    "        # okay, it's a crossroads. Do we need to change direction?\n",
    "        else:\n",
    "            s = schar(r, c)\n",
    "            n = nchar(r, c)\n",
    "            e = echar(r, c)\n",
    "            w = wchar(r, c)\n",
    "            if d == 'S':\n",
    "                s = schar(r, c)\n",
    "                if s in letters or s in nschars:\n",
    "                    # can keep going\n",
    "                    r += 1\n",
    "                    yield r, c\n",
    "                # have to turn\n",
    "                elif e in letters or e in ewchars:\n",
    "                    d = 'E'\n",
    "                    c += 1\n",
    "                    yield r, c\n",
    "                elif w in letters or w in ewchars:\n",
    "                    d = 'W'\n",
    "                    c -= 1\n",
    "                    yield r, c\n",
    "                else:\n",
    "                    print('Broken at {},{}'.format(r, c))\n",
    "            elif d == 'N':\n",
    "                n = nchar(r, c)\n",
    "                if n in letters or n in nschars:\n",
    "                    # can keep going\n",
    "                    r -= 1\n",
    "                    yield r, c\n",
    "                # have to turn\n",
    "                elif e in letters or e in ewchars:\n",
    "                    d = 'E'\n",
    "                    c += 1\n",
    "                    yield r, c\n",
    "                elif w in letters or w in ewchars:\n",
    "                    d = 'W'\n",
    "                    c -= 1\n",
    "                    yield r, c\n",
    "                else:\n",
    "                    print('Broken at {},{}'.format(r, c))\n",
    "            elif d == 'E':\n",
    "                e = echar(r, c)\n",
    "                if e in letters or e in ewchars:\n",
    "                    c += 1\n",
    "                    yield r, c\n",
    "                elif n in letters or n in nschars:\n",
    "                    d = 'N'\n",
    "                    r -= 1\n",
    "                    yield r, c\n",
    "                elif s in letters or s in nschars:\n",
    "                    d = 'S'\n",
    "                    r += 1\n",
    "                    yield r, c\n",
    "                else:\n",
    "                    print('Broken at {},{}'.format(r, c))\n",
    "            elif d == 'W':\n",
    "                w = wchar(r, c)\n",
    "                if w in letters or w in ewchars:\n",
    "                    c -= 1\n",
    "                    yield r, c\n",
    "                elif n in letters or n in nschars:\n",
    "                    d = 'N'\n",
    "                    r -= 1\n",
    "                    yield r, c\n",
    "                elif s in letters or s in nschars:\n",
    "                    d = 'S'\n",
    "                    r += 1\n",
    "                    yield r, c\n",
    "                else:\n",
    "                    print('Broken at {},{}'.format(r, c))\n",
    "            "
   ]
  },
  {
   "cell_type": "code",
   "execution_count": 4,
   "metadata": {},
   "outputs": [
    {
     "name": "stdout",
     "output_type": "stream",
     "text": [
      "ABCDEF 38\n"
     ]
    }
   ],
   "source": [
    "def walk(pathmap):\n",
    "    nrows,ncols = pathmap_size(pathmap)\n",
    "    chars = set(pathmap[r][c] for r in range(nrows) for c in range(ncols))\n",
    "    letters = chars - set([' ', '+', '-', '|'])\n",
    "    seen = []\n",
    "    for i,(r,c) in enumerate(next_pos(pathmap)):\n",
    "        char = pathmap[r][c]\n",
    "        if char in letters:\n",
    "            seen.append(char)\n",
    "    print(''.join(seen), i+1)\n",
    "walk(test_input)"
   ]
  },
  {
   "cell_type": "code",
   "execution_count": 5,
   "metadata": {},
   "outputs": [
    {
     "name": "stdout",
     "output_type": "stream",
     "text": [
      "GPALMJSOY 16204\n"
     ]
    }
   ],
   "source": [
    "puzzle_input = open('day19_input').read().split('\\n')[:-1]\n",
    "walk(puzzle_input)"
   ]
  }
 ],
 "metadata": {
  "kernelspec": {
   "display_name": "py36",
   "language": "python",
   "name": "py36"
  },
  "language_info": {
   "codemirror_mode": {
    "name": "ipython",
    "version": 3
   },
   "file_extension": ".py",
   "mimetype": "text/x-python",
   "name": "python",
   "nbconvert_exporter": "python",
   "pygments_lexer": "ipython3",
   "version": "3.6.3"
  }
 },
 "nbformat": 4,
 "nbformat_minor": 2
}
