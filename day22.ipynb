{
 "cells": [
  {
   "cell_type": "markdown",
   "metadata": {},
   "source": [
    "### puzzle 1 ###"
   ]
  },
  {
   "cell_type": "code",
   "execution_count": 1,
   "metadata": {},
   "outputs": [
    {
     "data": {
      "text/plain": [
       "['..#', '#..', '...']"
      ]
     },
     "execution_count": 1,
     "metadata": {},
     "output_type": "execute_result"
    }
   ],
   "source": [
    "test_map = '''..#\n",
    "#..\n",
    "...'''.split('\\n')\n",
    "test_map"
   ]
  },
  {
   "cell_type": "code",
   "execution_count": 8,
   "metadata": {},
   "outputs": [],
   "source": [
    "def initial_infected(map):\n",
    "    nrows = len(map)\n",
    "    ncols = len(map[0])\n",
    "    locations = [(nrows//2 - i, j - ncols//2) for i in range(nrows) for j in range(ncols) if map[i][j] == '#']\n",
    "    return locations"
   ]
  },
  {
   "cell_type": "code",
   "execution_count": 10,
   "metadata": {},
   "outputs": [
    {
     "data": {
      "text/plain": [
       "[(1, 1), (0, -1)]"
      ]
     },
     "execution_count": 10,
     "metadata": {},
     "output_type": "execute_result"
    }
   ],
   "source": [
    "test_initial_infected = initial_infected(test_map)\n",
    "test_initial_infected"
   ]
  },
  {
   "cell_type": "code",
   "execution_count": 14,
   "metadata": {},
   "outputs": [
    {
     "data": {
      "text/plain": [
       "(25, 25)"
      ]
     },
     "execution_count": 14,
     "metadata": {},
     "output_type": "execute_result"
    }
   ],
   "source": [
    "puzzle_map = open('day22_input').read().split('\\n')[:-1]\n",
    "puzzle_initial_infected = initial_infected(puzzle_map)\n",
    "len(puzzle_map), len(puzzle_map[0])"
   ]
  },
  {
   "cell_type": "code",
   "execution_count": 15,
   "metadata": {},
   "outputs": [],
   "source": [
    "dx = {0: 0, 90: -1, 180: 0, 270: +1}\n",
    "dy = {0: +1, 90: 0, 180: -1, 270: 0}\n",
    "def burst(infected, pos, ang):\n",
    "    if pos in infected:\n",
    "        infected.remove(pos)\n",
    "        newang = (ang - 90) % 360\n",
    "        x,y = pos\n",
    "        newpos = (x+dx[newang], y+dy[newang])\n",
    "        return infected, newpos, newang\n",
    "    else:\n",
    "        infected.append(pos)\n",
    "        newang = (ang + 90) % 360\n",
    "        x,y = pos\n",
    "        newpos = (x+dx[newang], y+dy[newang])\n",
    "        return infected, newpos, newang\n",
    "        \n",
    "        "
   ]
  },
  {
   "cell_type": "code",
   "execution_count": 17,
   "metadata": {},
   "outputs": [
    {
     "name": "stdout",
     "output_type": "stream",
     "text": [
      "(0, 0) 0\n",
      "(-1, 0) 90\n",
      "(-1, -1) 180\n",
      "(0, -1) 270\n",
      "(0, -2) 180\n",
      "(1, -2) 270\n",
      "(1, -1) 0\n",
      "[(1, 1), (0, 0), (-1, 0), (-1, -1), (0, -2), (1, -2), (1, -1)]\n"
     ]
    }
   ],
   "source": [
    "infected = test_initial_infected.copy()\n",
    "pos = (0, 0)\n",
    "ang = 0\n",
    "for i in range(7):\n",
    "    print(pos, ang)\n",
    "    infected, pos, ang = burst(infected, pos, ang)\n",
    "print(infected)"
   ]
  },
  {
   "cell_type": "code",
   "execution_count": null,
   "metadata": {},
   "outputs": [],
   "source": []
  }
 ],
 "metadata": {
  "kernelspec": {
   "display_name": "py36",
   "language": "python",
   "name": "py36"
  },
  "language_info": {
   "codemirror_mode": {
    "name": "ipython",
    "version": 3
   },
   "file_extension": ".py",
   "mimetype": "text/x-python",
   "name": "python",
   "nbconvert_exporter": "python",
   "pygments_lexer": "ipython3",
   "version": "3.6.3"
  }
 },
 "nbformat": 4,
 "nbformat_minor": 2
}
