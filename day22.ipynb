{
 "cells": [
  {
   "cell_type": "markdown",
   "metadata": {},
   "source": [
    "### puzzle 1 ###"
   ]
  },
  {
   "cell_type": "code",
   "execution_count": 1,
   "metadata": {},
   "outputs": [
    {
     "data": {
      "text/plain": [
       "['..#', '#..', '...']"
      ]
     },
     "execution_count": 1,
     "metadata": {},
     "output_type": "execute_result"
    }
   ],
   "source": [
    "test_map = '''..#\n",
    "#..\n",
    "...'''.split('\\n')\n",
    "test_map"
   ]
  },
  {
   "cell_type": "markdown",
   "metadata": {},
   "source": [
    "The initial map is ```nrows``` rows of characters, with each row made of ```ncols``` columns. That puts the row,col origin at the upper left, but I really want an x/y coordinate system with the origin in the center of the initial map. The results is:\n",
    "\n",
    "```python\n",
    "x(row, col) = -(ncols//2) + col\n",
    "y(row, col) = +(nrows//2) - row\n",
    "```"
   ]
  },
  {
   "cell_type": "code",
   "execution_count": 2,
   "metadata": {},
   "outputs": [],
   "source": [
    "def initial_infected(map):\n",
    "    nrows = len(map)\n",
    "    ncols = len(map[0])\n",
    "    locations = [(-(ncols//2) + col, (nrows//2) - row) for row in range(nrows) \n",
    "                                                   for col in range(ncols) if map[row][col] == '#']\n",
    "    return locations"
   ]
  },
  {
   "cell_type": "code",
   "execution_count": 3,
   "metadata": {},
   "outputs": [
    {
     "data": {
      "text/plain": [
       "(1, 1)"
      ]
     },
     "execution_count": 3,
     "metadata": {},
     "output_type": "execute_result"
    }
   ],
   "source": [
    "len(test_map)//2, len(test_map[0])//2"
   ]
  },
  {
   "cell_type": "code",
   "execution_count": 4,
   "metadata": {},
   "outputs": [
    {
     "data": {
      "text/plain": [
       "[(1, 1), (-1, 0)]"
      ]
     },
     "execution_count": 4,
     "metadata": {},
     "output_type": "execute_result"
    }
   ],
   "source": [
    "test_initial_infected = initial_infected(test_map)\n",
    "test_initial_infected"
   ]
  },
  {
   "cell_type": "code",
   "execution_count": 5,
   "metadata": {},
   "outputs": [
    {
     "data": {
      "text/plain": [
       "(25, 25)"
      ]
     },
     "execution_count": 5,
     "metadata": {},
     "output_type": "execute_result"
    }
   ],
   "source": [
    "puzzle_map = open('day22_input').read().split('\\n')[:-1]\n",
    "puzzle_initial_infected = initial_infected(puzzle_map)\n",
    "len(puzzle_map), len(puzzle_map[0])"
   ]
  },
  {
   "cell_type": "markdown",
   "metadata": {},
   "source": [
    "The direction that the \"virus\" is facing is N, S, E, or W. For my purposes, I'm going to define an angular coordinate system so that 0 degrees corresponds to E, 90 degrees to N, 180 degrees to E, and 270 degrees to S. That way turning right or left from the current direction corresponds to adding or subtracting 90 degrees to the current angle (modulo 360). Advancing one step in that coordinate system corresponds to:\n",
    "\n",
    "$$ x_\\text{new} = x_\\text{old} + \\cos(\\theta) $$\n",
    "and\n",
    "$$ y_\\text{new} = y_\\text{old} + \\sin(\\theta). $$\n",
    "\n",
    "Note that for only four angles, we can just pre-compute the cosine and sine values:"
   ]
  },
  {
   "cell_type": "code",
   "execution_count": 6,
   "metadata": {},
   "outputs": [],
   "source": [
    "cs = {0: 1, 90: 0, 180: -1, 270: 0}\n",
    "sn = {0: 0, 90: 1, 180: 0,  270: -1}"
   ]
  },
  {
   "cell_type": "code",
   "execution_count": 7,
   "metadata": {},
   "outputs": [],
   "source": [
    "def burst(infected, pos, ang):\n",
    "    if pos in infected:\n",
    "        infected.remove(pos)\n",
    "        newang = (ang - 90) % 360\n",
    "        x,y = pos\n",
    "        newpos = (x+cs[newang], y+sn[newang])\n",
    "        return infected, newpos, newang\n",
    "    else:\n",
    "        infected.append(pos)\n",
    "        newang = (ang + 90) % 360\n",
    "        x,y = pos\n",
    "        newpos = (x+cs[newang], y+sn[newang])\n",
    "        return infected, newpos, newang      "
   ]
  },
  {
   "cell_type": "code",
   "execution_count": 8,
   "metadata": {},
   "outputs": [
    {
     "name": "stdout",
     "output_type": "stream",
     "text": [
      "(0, 0) 90 [(1, 1), (-1, 0)] --> (-1, 0) 180 [(1, 1), (-1, 0), (0, 0)]\n",
      "(-1, 0) 180 [(1, 1), (-1, 0), (0, 0)] --> (-1, 1) 90 [(1, 1), (0, 0)]\n",
      "(-1, 1) 90 [(1, 1), (0, 0)] --> (-2, 1) 180 [(1, 1), (0, 0), (-1, 1)]\n",
      "(-2, 1) 180 [(1, 1), (0, 0), (-1, 1)] --> (-2, 0) 270 [(1, 1), (0, 0), (-1, 1), (-2, 1)]\n",
      "(-2, 0) 270 [(1, 1), (0, 0), (-1, 1), (-2, 1)] --> (-1, 0) 0 [(1, 1), (0, 0), (-1, 1), (-2, 1), (-2, 0)]\n",
      "(-1, 0) 0 [(1, 1), (0, 0), (-1, 1), (-2, 1), (-2, 0)] --> (-1, 1) 90 [(1, 1), (0, 0), (-1, 1), (-2, 1), (-2, 0), (-1, 0)]\n",
      "(-1, 1) 90 [(1, 1), (0, 0), (-1, 1), (-2, 1), (-2, 0), (-1, 0)] --> (0, 1) 0 [(1, 1), (0, 0), (-2, 1), (-2, 0), (-1, 0)]\n",
      "[(1, 1), (0, 0), (-2, 1), (-2, 0), (-1, 0)]\n"
     ]
    }
   ],
   "source": [
    "infected = test_initial_infected.copy()\n",
    "pos = (0, 0)\n",
    "ang = 90\n",
    "for i in range(7):\n",
    "    print(pos, ang, infected, '--> ', end='')\n",
    "    infected, pos, ang = burst(infected, pos, ang)\n",
    "    print(pos, ang, infected)\n",
    "print(infected)"
   ]
  },
  {
   "cell_type": "code",
   "execution_count": 9,
   "metadata": {},
   "outputs": [],
   "source": [
    "def activity(map, bursts):\n",
    "    infected = initial_infected(map)\n",
    "    num_added_infections = 0\n",
    "    pos = (0, 0)\n",
    "    ang = 90\n",
    "    for i in range(bursts):\n",
    "        curr_num = len(infected)\n",
    "        infected, pos, ang = burst(infected, pos, ang)\n",
    "        if len(infected) > curr_num:\n",
    "            num_added_infections += 1\n",
    "    return num_added_infections"
   ]
  },
  {
   "cell_type": "code",
   "execution_count": 10,
   "metadata": {},
   "outputs": [],
   "source": [
    "assert(41 == activity(test_map, 70))\n",
    "assert(5587 == activity(test_map, 10000))"
   ]
  },
  {
   "cell_type": "code",
   "execution_count": 11,
   "metadata": {},
   "outputs": [
    {
     "data": {
      "text/plain": [
       "5305"
      ]
     },
     "execution_count": 11,
     "metadata": {},
     "output_type": "execute_result"
    }
   ],
   "source": [
    "activity(puzzle_map, 10000)"
   ]
  },
  {
   "cell_type": "markdown",
   "metadata": {},
   "source": [
    "### puzzle 2 ###\n",
    "\n",
    "More complicated rules, but same basic idea. Start at the center facing up. Change the current location, and move one step forward in a particular direction. Instead of infected and clean, though, there's now \"weakened\" and \"flagged\" states. My first effort had separate infected, flagged, and weakened structures, but moving a position from one list to the next was way too slow."
   ]
  },
  {
   "cell_type": "code",
   "execution_count": 12,
   "metadata": {},
   "outputs": [],
   "source": [
    "def initial_infected2(map):\n",
    "    nrows = len(map)\n",
    "    ncols = len(map[0])\n",
    "    nodes = {}\n",
    "    for row in range(nrows):\n",
    "        for col in range(ncols):\n",
    "            pos = (-(ncols//2) + col, (nrows//2) - row)\n",
    "            if map[row][col] == '#':\n",
    "                nodes[pos] = 'I'\n",
    "            elif map[row][col] == '.':\n",
    "                nodes[pos] = 'C'\n",
    "            else:\n",
    "                raise ValueError('Bad character in the map: {}'.format(map[row][col]))\n",
    "    return nodes"
   ]
  },
  {
   "cell_type": "code",
   "execution_count": 13,
   "metadata": {},
   "outputs": [
    {
     "data": {
      "text/plain": [
       "{(-1, -1): 'C',\n",
       " (-1, 0): 'I',\n",
       " (-1, 1): 'C',\n",
       " (0, -1): 'C',\n",
       " (0, 0): 'C',\n",
       " (0, 1): 'C',\n",
       " (1, -1): 'C',\n",
       " (1, 0): 'C',\n",
       " (1, 1): 'I'}"
      ]
     },
     "execution_count": 13,
     "metadata": {},
     "output_type": "execute_result"
    }
   ],
   "source": [
    "initial_infected2(test_map)"
   ]
  },
  {
   "cell_type": "code",
   "execution_count": 14,
   "metadata": {},
   "outputs": [],
   "source": [
    "deltheta = {'C': 90, 'W': 0, 'I': -90, 'F': 180}\n",
    "next_status = {'C': 'W', 'W': 'I', 'I': 'F', 'F': 'C'}\n",
    "def burst2(nodes, pos, ang):\n",
    "    if pos not in nodes:\n",
    "        nodes[pos] = 'C'\n",
    "    cond = nodes[pos]\n",
    "    newang = (ang + deltheta[cond]) % 360\n",
    "    x,y = pos\n",
    "    newpos = (x + cs[newang], y + sn[newang])\n",
    "    nodes[pos] = next_status[cond]\n",
    "    if nodes[pos] == 'I':\n",
    "        infection_added = True\n",
    "    else:\n",
    "        infection_added = False\n",
    "    return nodes, newpos, newang, infection_added   "
   ]
  },
  {
   "cell_type": "code",
   "execution_count": 15,
   "metadata": {},
   "outputs": [],
   "source": [
    "def activity2(map, bursts):\n",
    "    nodes = initial_infected2(map)\n",
    "    pos = (0, 0)\n",
    "    ang = 90\n",
    "    num_added_infections = 0\n",
    "    for i in range(bursts):\n",
    "        nodes, pos, ang, infection_added = burst2(nodes, pos, ang)\n",
    "        if infection_added:\n",
    "            num_added_infections += 1\n",
    "    return num_added_infections"
   ]
  },
  {
   "cell_type": "code",
   "execution_count": 16,
   "metadata": {},
   "outputs": [],
   "source": [
    "assert(26 == activity2(test_map, 100))\n",
    "assert(2511944 == activity2(test_map, 10000000))"
   ]
  },
  {
   "cell_type": "code",
   "execution_count": 17,
   "metadata": {},
   "outputs": [
    {
     "data": {
      "text/plain": [
       "2511424"
      ]
     },
     "execution_count": 17,
     "metadata": {},
     "output_type": "execute_result"
    }
   ],
   "source": [
    "activity2(puzzle_map, 10_000_000)"
   ]
  },
  {
   "cell_type": "code",
   "execution_count": null,
   "metadata": {},
   "outputs": [],
   "source": []
  }
 ],
 "metadata": {
  "kernelspec": {
   "display_name": "py36",
   "language": "python",
   "name": "py36"
  },
  "language_info": {
   "codemirror_mode": {
    "name": "ipython",
    "version": 3
   },
   "file_extension": ".py",
   "mimetype": "text/x-python",
   "name": "python",
   "nbconvert_exporter": "python",
   "pygments_lexer": "ipython3",
   "version": "3.6.3"
  }
 },
 "nbformat": 4,
 "nbformat_minor": 2
}
