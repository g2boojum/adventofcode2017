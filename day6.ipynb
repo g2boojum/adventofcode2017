{
 "cells": [
  {
   "cell_type": "code",
   "execution_count": 2,
   "metadata": {},
   "outputs": [],
   "source": [
    "import numpy as np"
   ]
  },
  {
   "cell_type": "markdown",
   "metadata": {},
   "source": [
    "### puzzle 1 ###"
   ]
  },
  {
   "cell_type": "code",
   "execution_count": 3,
   "metadata": {},
   "outputs": [],
   "source": [
    "puzzle_data = np.array([14, 0, 15, 12, 11, 11, 3, 5, 1, 6, 8, 4, 9, 1, 8, 4])\n",
    "test_data = np.array([0, 2, 7, 0])"
   ]
  },
  {
   "cell_type": "code",
   "execution_count": 7,
   "metadata": {},
   "outputs": [
    {
     "data": {
      "text/plain": [
       "2"
      ]
     },
     "execution_count": 7,
     "metadata": {},
     "output_type": "execute_result"
    }
   ],
   "source": [
    "np.array([2, 3, 5, 5, 1]).argmax()"
   ]
  },
  {
   "cell_type": "code",
   "execution_count": 10,
   "metadata": {},
   "outputs": [],
   "source": [
    "def most_blocks(blocks):\n",
    "    idx = blocks.argmax()\n",
    "    return idx, blocks[idx]"
   ]
  },
  {
   "cell_type": "code",
   "execution_count": 22,
   "metadata": {},
   "outputs": [],
   "source": [
    "def reallocate(blocks):\n",
    "    idx, num = most_blocks(blocks)\n",
    "    blocks = np.roll(blocks, -idx)\n",
    "    blocks[0] = 0\n",
    "    for i in range(num):\n",
    "        blocks = np.roll(blocks, -1)\n",
    "        blocks[0] += 1\n",
    "    return np.roll(blocks, idx+num)"
   ]
  },
  {
   "cell_type": "code",
   "execution_count": 31,
   "metadata": {},
   "outputs": [],
   "source": [
    "blocks = test_data\n",
    "blocks = reallocate(blocks)\n",
    "assert(np.array_equal([2, 4, 1, 2], blocks))\n",
    "blocks = reallocate(blocks)\n",
    "assert(np.array_equal([3, 1, 2, 3], blocks))\n",
    "blocks = reallocate(blocks)\n",
    "assert(np.array_equal([0, 2, 3, 4], blocks))\n",
    "blocks = reallocate(blocks)\n",
    "assert(np.array_equal([1, 3, 4, 1], blocks))\n",
    "blocks = reallocate(blocks)\n",
    "assert(np.array_equal([2, 4, 1, 2], blocks))"
   ]
  },
  {
   "cell_type": "code",
   "execution_count": 41,
   "metadata": {},
   "outputs": [],
   "source": [
    "def redistributions(blocks):\n",
    "    patterns = []\n",
    "    num_reallocates = 0\n",
    "    while True:\n",
    "        blocks = reallocate(blocks)\n",
    "        num_reallocates += 1\n",
    "        if tuple(blocks) in patterns:\n",
    "            break\n",
    "        patterns.append(tuple(blocks))      \n",
    "    return num_reallocates"
   ]
  },
  {
   "cell_type": "code",
   "execution_count": 43,
   "metadata": {},
   "outputs": [],
   "source": [
    "assert(5 == redistributions(test_data))"
   ]
  },
  {
   "cell_type": "code",
   "execution_count": 44,
   "metadata": {},
   "outputs": [
    {
     "data": {
      "text/plain": [
       "11137"
      ]
     },
     "execution_count": 44,
     "metadata": {},
     "output_type": "execute_result"
    }
   ],
   "source": [
    "redistributions(puzzle_data)"
   ]
  },
  {
   "cell_type": "markdown",
   "metadata": {},
   "source": [
    "### puzzle 2 ###"
   ]
  },
  {
   "cell_type": "code",
   "execution_count": 51,
   "metadata": {},
   "outputs": [
    {
     "data": {
      "text/plain": [
       "4"
      ]
     },
     "execution_count": 51,
     "metadata": {},
     "output_type": "execute_result"
    }
   ],
   "source": [
    "lst = [1, 2, 5, 3, 4, 2]\n",
    "(len(lst) -1) - lst[:-1].index(lst[-1])"
   ]
  },
  {
   "cell_type": "code",
   "execution_count": 56,
   "metadata": {},
   "outputs": [],
   "source": [
    "def redistrbutions2(blocks):\n",
    "    patterns = []\n",
    "    num_reallocates = 0\n",
    "    while True:\n",
    "        blocks = reallocate(blocks)\n",
    "        num_reallocates += 1\n",
    "        if tuple(blocks) in patterns:\n",
    "            break\n",
    "        patterns.append(tuple(blocks))\n",
    "    patterns.append(tuple(blocks))\n",
    "    first_idx = patterns[:-1].index(patterns[-1])\n",
    "    distance = (len(patterns) - 1) - first_idx\n",
    "    return num_reallocates, distance  "
   ]
  },
  {
   "cell_type": "code",
   "execution_count": 58,
   "metadata": {},
   "outputs": [],
   "source": [
    "assert((5, 4) == redistrbutions2(test_data))"
   ]
  },
  {
   "cell_type": "code",
   "execution_count": 59,
   "metadata": {},
   "outputs": [
    {
     "data": {
      "text/plain": [
       "(11137, 1037)"
      ]
     },
     "execution_count": 59,
     "metadata": {},
     "output_type": "execute_result"
    }
   ],
   "source": [
    "redistrbutions2(puzzle_data)"
   ]
  },
  {
   "cell_type": "code",
   "execution_count": null,
   "metadata": {},
   "outputs": [],
   "source": []
  }
 ],
 "metadata": {
  "kernelspec": {
   "display_name": "py36",
   "language": "python",
   "name": "py36"
  },
  "language_info": {
   "codemirror_mode": {
    "name": "ipython",
    "version": 3
   },
   "file_extension": ".py",
   "mimetype": "text/x-python",
   "name": "python",
   "nbconvert_exporter": "python",
   "pygments_lexer": "ipython3",
   "version": "3.6.3"
  }
 },
 "nbformat": 4,
 "nbformat_minor": 2
}
