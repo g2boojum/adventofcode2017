{
 "cells": [
  {
   "cell_type": "code",
   "execution_count": 32,
   "metadata": {},
   "outputs": [],
   "source": [
    "import pandas as pd"
   ]
  },
  {
   "cell_type": "markdown",
   "metadata": {},
   "source": [
    "### puzzle 1 ###"
   ]
  },
  {
   "cell_type": "code",
   "execution_count": 12,
   "metadata": {},
   "outputs": [],
   "source": [
    "test_data = [0, 3, 0, 1, -3]"
   ]
  },
  {
   "cell_type": "code",
   "execution_count": 26,
   "metadata": {},
   "outputs": [],
   "source": [
    "def jump(T, pos):\n",
    "    newpos = pos + T[pos]\n",
    "    newT = T.copy()\n",
    "    newT[pos] += 1\n",
    "    return newT, newpos"
   ]
  },
  {
   "cell_type": "code",
   "execution_count": 27,
   "metadata": {},
   "outputs": [],
   "source": [
    "T, pos = jump(test_data, 0)\n",
    "assert(([1, 3, 0, 1, -3], 0) == (T, pos))\n",
    "T, pos = jump(T, pos)\n",
    "assert(([2, 3, 0, 1, -3], 1) == (T, pos))\n",
    "T, pos = jump(T, pos)\n",
    "assert(([2, 4, 0, 1, -3], 4) == (T, pos))\n",
    "T, pos = jump(T, pos)\n",
    "assert(([2, 4, 0, 1, -2], 1) == (T, pos))\n",
    "T, pos = jump(T, pos)\n",
    "assert(([2, 5, 0, 1, -2], 5) == (T, pos))"
   ]
  },
  {
   "cell_type": "code",
   "execution_count": 49,
   "metadata": {},
   "outputs": [],
   "source": [
    "def jump_out(data, jumpfn=jump, max_jumps=100):\n",
    "    pos = 0\n",
    "    T = data\n",
    "    num_jumps = 0\n",
    "    while (0 <= pos < len(T)) and num_jumps < max_jumps:\n",
    "        T, pos = jumpfn(T, pos)\n",
    "        num_jumps += 1\n",
    "    return num_jumps"
   ]
  },
  {
   "cell_type": "code",
   "execution_count": 50,
   "metadata": {},
   "outputs": [],
   "source": [
    "assert(5 == jump_out(test_data))"
   ]
  },
  {
   "cell_type": "code",
   "execution_count": 51,
   "metadata": {},
   "outputs": [],
   "source": [
    "puzzle_data = pd.read_csv('day5_input', header=None)[0].tolist()"
   ]
  },
  {
   "cell_type": "code",
   "execution_count": 52,
   "metadata": {},
   "outputs": [
    {
     "data": {
      "text/plain": [
       "343364"
      ]
     },
     "execution_count": 52,
     "metadata": {},
     "output_type": "execute_result"
    }
   ],
   "source": [
    "jump_out(puzzle_data, jump, 1000000)"
   ]
  },
  {
   "cell_type": "markdown",
   "metadata": {},
   "source": [
    "### puzzle 2 ###"
   ]
  },
  {
   "cell_type": "code",
   "execution_count": 53,
   "metadata": {},
   "outputs": [],
   "source": [
    "def jump2(T, pos):\n",
    "    offset = T[pos]\n",
    "    newpos = pos + offset\n",
    "    newT = T.copy()\n",
    "    if offset >= 3:\n",
    "        newT[pos] -= 1\n",
    "    else:\n",
    "        newT[pos] += 1\n",
    "    return newT, newpos            "
   ]
  },
  {
   "cell_type": "code",
   "execution_count": 55,
   "metadata": {},
   "outputs": [],
   "source": [
    "assert(10 == jump_out(test_data, jump2))"
   ]
  },
  {
   "cell_type": "code",
   "execution_count": 58,
   "metadata": {},
   "outputs": [
    {
     "data": {
      "text/plain": [
       "25071947"
      ]
     },
     "execution_count": 58,
     "metadata": {},
     "output_type": "execute_result"
    }
   ],
   "source": [
    "jump_out(puzzle_data, jump2, 100000000)"
   ]
  },
  {
   "cell_type": "code",
   "execution_count": null,
   "metadata": {},
   "outputs": [],
   "source": []
  }
 ],
 "metadata": {
  "kernelspec": {
   "display_name": "py36",
   "language": "python",
   "name": "py36"
  },
  "language_info": {
   "codemirror_mode": {
    "name": "ipython",
    "version": 3
   },
   "file_extension": ".py",
   "mimetype": "text/x-python",
   "name": "python",
   "nbconvert_exporter": "python",
   "pygments_lexer": "ipython3",
   "version": "3.6.3"
  }
 },
 "nbformat": 4,
 "nbformat_minor": 2
}
