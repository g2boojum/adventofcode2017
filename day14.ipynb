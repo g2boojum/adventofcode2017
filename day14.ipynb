{
 "cells": [
  {
   "cell_type": "markdown",
   "metadata": {},
   "source": [
    "### puzzle 1 ###\n",
    "\n",
    "Need the knot hash calculation from day 10:"
   ]
  },
  {
   "cell_type": "code",
   "execution_count": 1,
   "metadata": {},
   "outputs": [],
   "source": [
    "def circular_subset(lst, start, length):\n",
    "    subset = []\n",
    "    for i in range(length):\n",
    "        circ_pos = (start + i) % len(lst)\n",
    "        subset.append(lst[circ_pos])\n",
    "    return subset\n",
    "def circular_fill_reversed(lst, start, subset):\n",
    "    for i, val in enumerate(reversed(subset)):\n",
    "        circ_pos = (start + i) % len(lst)\n",
    "        lst[circ_pos] = val\n",
    "def knot_hash(s):\n",
    "    input_ascii = [ord(c) for c in s]\n",
    "    input_ascii.extend([17, 31, 73, 47, 23])\n",
    "    lst = list(range(256))\n",
    "    pos = 0\n",
    "    skip = 0\n",
    "    for i in range(64):\n",
    "        for length in input_ascii:\n",
    "            subset = circular_subset(lst, pos, length)\n",
    "            circular_fill_reversed(lst, pos, subset)\n",
    "            pos = (pos + length + skip) % len(lst)\n",
    "            skip += 1\n",
    "    khash = []\n",
    "    for i in range(16):\n",
    "        block = lst[16*i:16*(i+1)]\n",
    "        val = block[0]\n",
    "        for x in block[1:]:\n",
    "            val ^= x\n",
    "        khash.append(val)\n",
    "    return(''.join(['{0:02x}'.format(a) for a in khash]))\n",
    "def knot_hash_bin(s):\n",
    "    hex_hash = knot_hash(s)\n",
    "    return ''.join(['{0:04b}'.format(int(c,16)) for c in hex_hash])"
   ]
  },
  {
   "cell_type": "code",
   "execution_count": 2,
   "metadata": {},
   "outputs": [],
   "source": [
    "assert('28e7c4360520718a5dc811d3942cf1fd' == knot_hash(\"31,2,85,1,80,109,35,63,98,255,0,13,105,254,128,33\"))"
   ]
  },
  {
   "cell_type": "code",
   "execution_count": 3,
   "metadata": {},
   "outputs": [],
   "source": [
    "test_key = 'flqrgnkx'\n",
    "puzzle_key = 'ljoxqyyw'"
   ]
  },
  {
   "cell_type": "code",
   "execution_count": 4,
   "metadata": {},
   "outputs": [],
   "source": [
    "test_output = ['11010100',\n",
    "               '01010101',\n",
    "               '00001010',\n",
    "               '10101101',\n",
    "               '01101000',\n",
    "               '11001001',\n",
    "               '01000100',\n",
    "               '11010110']\n",
    "for i, res in enumerate(test_output):\n",
    "    bin_hash = knot_hash_bin('{}-{}'.format(test_key, i))\n",
    "    assert(bin_hash[:8] == test_output[i])"
   ]
  },
  {
   "cell_type": "code",
   "execution_count": 5,
   "metadata": {},
   "outputs": [],
   "source": [
    "test_used = sum(knot_hash_bin('{}-{}'.format(test_key, i)).count('1') for i in range(128))\n",
    "assert(8108 == test_used)"
   ]
  },
  {
   "cell_type": "code",
   "execution_count": 6,
   "metadata": {},
   "outputs": [
    {
     "data": {
      "text/plain": [
       "8316"
      ]
     },
     "execution_count": 6,
     "metadata": {},
     "output_type": "execute_result"
    }
   ],
   "source": [
    "sum(knot_hash_bin('{}-{}'.format(puzzle_key, i)).count('1') for i in range(128))"
   ]
  },
  {
   "cell_type": "markdown",
   "metadata": {},
   "source": [
    "### puzzle 2 ###"
   ]
  },
  {
   "cell_type": "code",
   "execution_count": 7,
   "metadata": {},
   "outputs": [],
   "source": [
    "import numpy as np"
   ]
  },
  {
   "cell_type": "code",
   "execution_count": 8,
   "metadata": {},
   "outputs": [],
   "source": [
    "def knot_hash_grid(key):\n",
    "    grid = np.zeros((128,128))\n",
    "    for i in range(128):\n",
    "        row_key = '{}-{}'.format(key, i)\n",
    "        bin_hash = knot_hash_bin(row_key)\n",
    "        grid[i,:] = [int(c) for c in bin_hash]\n",
    "    return grid"
   ]
  },
  {
   "cell_type": "code",
   "execution_count": 9,
   "metadata": {},
   "outputs": [
    {
     "data": {
      "text/plain": [
       "array([[ 1.,  1.,  0.,  1.,  0.,  1.,  0.,  0.],\n",
       "       [ 0.,  1.,  0.,  1.,  0.,  1.,  0.,  1.],\n",
       "       [ 0.,  0.,  0.,  0.,  1.,  0.,  1.,  0.],\n",
       "       [ 1.,  0.,  1.,  0.,  1.,  1.,  0.,  1.],\n",
       "       [ 0.,  1.,  1.,  0.,  1.,  0.,  0.,  0.],\n",
       "       [ 1.,  1.,  0.,  0.,  1.,  0.,  0.,  1.],\n",
       "       [ 0.,  1.,  0.,  0.,  0.,  1.,  0.,  0.],\n",
       "       [ 1.,  1.,  0.,  1.,  0.,  1.,  1.,  0.]])"
      ]
     },
     "execution_count": 9,
     "metadata": {},
     "output_type": "execute_result"
    }
   ],
   "source": [
    "test_grid = knot_hash_grid(test_key)\n",
    "test_grid[:8, :8]"
   ]
  },
  {
   "cell_type": "code",
   "execution_count": 10,
   "metadata": {},
   "outputs": [],
   "source": [
    "seen = np.zeros((128,128), dtype=np.bool)"
   ]
  },
  {
   "cell_type": "code",
   "execution_count": 24,
   "metadata": {},
   "outputs": [],
   "source": [
    "def follow(pos, grid, seen, region=None):\n",
    "    if region is None:\n",
    "        region = []\n",
    "    region.append(pos)\n",
    "    seen[pos] = True\n",
    "    row,col = pos\n",
    "    nrow,ncol = grid.shape\n",
    "    dirs = []\n",
    "    # east\n",
    "    if col > 0:\n",
    "        dirs.append((row, col-1))\n",
    "    # west\n",
    "    if col < ncol-1:\n",
    "        dirs.append((row, col+1))\n",
    "    # north\n",
    "    if row > 0:\n",
    "        dirs.append((row-1, col))\n",
    "    # south\n",
    "    if row < nrow-1:\n",
    "        dirs.append((row+1, col))\n",
    "    for newpos in dirs:\n",
    "        if seen[newpos]:\n",
    "            continue\n",
    "        if grid[newpos] == 0:\n",
    "            seen[newpos] = True\n",
    "            continue\n",
    "        seen, region = follow(newpos, grid, seen, region)\n",
    "    return seen, region"
   ]
  },
  {
   "cell_type": "code",
   "execution_count": 25,
   "metadata": {},
   "outputs": [],
   "source": [
    "grid8 = test_grid[:8, :8].copy()\n",
    "grid8_seen = np.zeros((8,8), dtype=np.bool)\n",
    "grid8_seen, reg = follow((0,0), grid8, grid8_seen)"
   ]
  },
  {
   "cell_type": "code",
   "execution_count": 32,
   "metadata": {},
   "outputs": [
    {
     "name": "stdout",
     "output_type": "stream",
     "text": [
      "[[ 1.  1.  0.  1.  0.  1.  0.  0.]\n",
      " [ 0.  1.  0.  1.  0.  1.  0.  1.]\n",
      " [ 0.  0.  0.  0.  1.  0.  1.  0.]\n",
      " [ 1.  0.  1.  0.  1.  1.  0.  1.]\n",
      " [ 0.  1.  1.  0.  1.  0.  0.  0.]\n",
      " [ 1.  1.  0.  0.  1.  0.  0.  1.]\n",
      " [ 0.  1.  0.  0.  0.  1.  0.  0.]\n",
      " [ 1.  1.  0.  1.  0.  1.  1.  0.]]\n",
      "First region:  [(0, 0), (0, 1), (1, 1)]\n"
     ]
    }
   ],
   "source": [
    "print(grid8)\n",
    "print('First region: ', reg)"
   ]
  },
  {
   "cell_type": "code",
   "execution_count": 33,
   "metadata": {},
   "outputs": [],
   "source": [
    "def find_regions(grid):\n",
    "    nrow, ncol = grid.shape\n",
    "    seen = np.zeros((nrow,ncol), dtype=np.bool)\n",
    "    regions = []\n",
    "    for row in range(nrow):\n",
    "        for col in range(ncol):\n",
    "            pos = (row, col)\n",
    "            if seen[pos]:\n",
    "                continue\n",
    "            if grid[pos] == 0:\n",
    "                seen[pos] = True\n",
    "                continue\n",
    "            # new region found if we get to here\n",
    "            seen, region = follow(pos, grid, seen)\n",
    "            regions.append(region)\n",
    "    return regions\n",
    "    "
   ]
  },
  {
   "cell_type": "code",
   "execution_count": 34,
   "metadata": {},
   "outputs": [
    {
     "data": {
      "text/plain": [
       "[[(0, 0), (0, 1), (1, 1)],\n",
       " [(0, 3), (1, 3)],\n",
       " [(0, 5), (1, 5)],\n",
       " [(1, 7)],\n",
       " [(2, 4), (3, 4), (3, 5), (4, 4), (5, 4)],\n",
       " [(2, 6)],\n",
       " [(3, 0)],\n",
       " [(3, 2), (4, 2), (4, 1), (5, 1), (5, 0), (6, 1), (7, 1), (7, 0)],\n",
       " [(3, 7)],\n",
       " [(5, 7)],\n",
       " [(6, 5), (7, 5), (7, 6)],\n",
       " [(7, 3)]]"
      ]
     },
     "execution_count": 34,
     "metadata": {},
     "output_type": "execute_result"
    }
   ],
   "source": [
    "find_regions(grid8)"
   ]
  },
  {
   "cell_type": "code",
   "execution_count": 35,
   "metadata": {},
   "outputs": [],
   "source": [
    "test_regions = find_regions(test_grid)"
   ]
  },
  {
   "cell_type": "code",
   "execution_count": 38,
   "metadata": {},
   "outputs": [],
   "source": [
    "assert(1242 == len(test_regions))"
   ]
  },
  {
   "cell_type": "code",
   "execution_count": 39,
   "metadata": {},
   "outputs": [
    {
     "data": {
      "text/plain": [
       "1074"
      ]
     },
     "execution_count": 39,
     "metadata": {},
     "output_type": "execute_result"
    }
   ],
   "source": [
    "len(find_regions(knot_hash_grid(puzzle_key)))"
   ]
  },
  {
   "cell_type": "code",
   "execution_count": null,
   "metadata": {},
   "outputs": [],
   "source": []
  }
 ],
 "metadata": {
  "kernelspec": {
   "display_name": "py36",
   "language": "python",
   "name": "py36"
  },
  "language_info": {
   "codemirror_mode": {
    "name": "ipython",
    "version": 3
   },
   "file_extension": ".py",
   "mimetype": "text/x-python",
   "name": "python",
   "nbconvert_exporter": "python",
   "pygments_lexer": "ipython3",
   "version": "3.6.3"
  }
 },
 "nbformat": 4,
 "nbformat_minor": 2
}
