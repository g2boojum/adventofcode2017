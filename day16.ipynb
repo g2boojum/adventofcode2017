{
 "cells": [
  {
   "cell_type": "markdown",
   "metadata": {},
   "source": [
    "### puzzle 1 ###\n",
    "\n",
    "N items in a circular buffer.\n",
    "\n",
    "Rules:\n",
    "\n",
    "* sX moves the \"first\" position, or origin, of the buffer X places to the left.\n",
    "* xA/B swaps items at positions A and B (counting from the origin)\n",
    "* pA/B swaps items named A and B, regardless of their ordinal positions."
   ]
  },
  {
   "cell_type": "code",
   "execution_count": 1,
   "metadata": {},
   "outputs": [],
   "source": [
    "def spin(amount, offset, size):\n",
    "    offset = (offset - amount) % size\n",
    "    return offset\n",
    "def idx(i, size):\n",
    "    return i % size\n",
    "def curr_str(lst, offset):\n",
    "    return ''.join(lst[offset:] + lst[:offset])\n",
    "def pos_swap(i, j, lst):\n",
    "    size = len(lst)\n",
    "    idxi = idx(i, size)\n",
    "    idxj = idx(j, size)\n",
    "    lst[idxi],lst[idxj] = lst[idxj],lst[idxi]\n",
    "    return lst\n",
    "def item_swap(a, b, lst):\n",
    "    idxa = lst.index(a)\n",
    "    idxb = lst.index(b)\n",
    "    lst[idxa],lst[idxb] = lst[idxb],lst[idxa]\n",
    "    return lst"
   ]
  },
  {
   "cell_type": "code",
   "execution_count": 2,
   "metadata": {},
   "outputs": [],
   "source": [
    "def do_moves(moves, lst, offset):\n",
    "    size = len(lst)\n",
    "    for move in moves:\n",
    "        if move[0] == 's':\n",
    "            amount = int(move[1:])\n",
    "            offset = spin(amount, offset, size)\n",
    "        elif move[0] == 'x':\n",
    "            i, slash, j = move[1:].partition('/')\n",
    "            lst = pos_swap(int(i)+offset, int(j)+offset, lst)\n",
    "        elif move[0] == 'p':\n",
    "            a, slash, b = move[1:].partition('/')\n",
    "            lst = item_swap(a, b, lst)\n",
    "        else:\n",
    "            raise ValueError('malformed move')\n",
    "    return curr_str(lst, offset)"
   ]
  },
  {
   "cell_type": "code",
   "execution_count": 3,
   "metadata": {},
   "outputs": [],
   "source": [
    "def string_dance(s, moves):\n",
    "    lst = [c for c in s]\n",
    "    offset = 0\n",
    "    new_s = do_moves(moves, lst, offset)\n",
    "    return new_s"
   ]
  },
  {
   "cell_type": "code",
   "execution_count": 4,
   "metadata": {},
   "outputs": [],
   "source": [
    "assert('baedc' == string_dance('abcde', ['s1', 'x3/4', 'pe/b']))\n",
    "assert('ceadb' == string_dance(string_dance('abcde', ['s1', 'x3/4', 'pe/b']), ['s1', 'x3/4', 'pe/b']))"
   ]
  },
  {
   "cell_type": "code",
   "execution_count": 5,
   "metadata": {},
   "outputs": [
    {
     "data": {
      "text/plain": [
       "'kpbodeajhlicngmf'"
      ]
     },
     "execution_count": 5,
     "metadata": {},
     "output_type": "execute_result"
    }
   ],
   "source": [
    "puzzle_moves = open('day16_input').read().split(',')\n",
    "puzzle_str = 'abcdefghijklmnop'\n",
    "string_dance(puzzle_str, puzzle_moves)"
   ]
  },
  {
   "cell_type": "markdown",
   "metadata": {},
   "source": [
    "### puzzle 2 ###"
   ]
  },
  {
   "cell_type": "markdown",
   "metadata": {},
   "source": [
    "Does iterating the dance eventually cycle around to the initial string?"
   ]
  },
  {
   "cell_type": "code",
   "execution_count": 6,
   "metadata": {},
   "outputs": [
    {
     "name": "stdout",
     "output_type": "stream",
     "text": [
      "44\n",
      "88\n"
     ]
    }
   ],
   "source": [
    "s = puzzle_str\n",
    "for i in range(100):\n",
    "    s = string_dance(s, puzzle_moves)\n",
    "    if s == puzzle_str:\n",
    "        print(i+1)"
   ]
  },
  {
   "cell_type": "markdown",
   "metadata": {},
   "source": [
    "Yes! Okay, then 1 billion items is a bunch of cycles plus some leftovers:"
   ]
  },
  {
   "cell_type": "code",
   "execution_count": 7,
   "metadata": {},
   "outputs": [
    {
     "data": {
      "text/plain": [
       "32"
      ]
     },
     "execution_count": 7,
     "metadata": {},
     "output_type": "execute_result"
    }
   ],
   "source": [
    "n = 1000000000\n",
    "n % 44"
   ]
  },
  {
   "cell_type": "code",
   "execution_count": 8,
   "metadata": {},
   "outputs": [
    {
     "name": "stdout",
     "output_type": "stream",
     "text": [
      "0 abcdefghijklmnop\n",
      "1 kpbodeajhlicngmf\n",
      "2 dkfcagielbnjohpm\n",
      "3 bhdakljmfocgpeni\n",
      "4 anchbkmdpjefliog\n",
      "5 kjimgecphadbnflo\n",
      "6 gdkpanfbcehjolim\n",
      "7 cbdjkmglopfhiena\n",
      "8 aenfcbmgplikhjod\n",
      "9 kfpcjgeiamdbnohl\n",
      "10 jhgpadkcbfmnolei\n",
      "11 mbcdkfghijoleanp\n",
      "12 apbkmenjhlicdgof\n",
      "13 kofcpgielbajnhdm\n",
      "14 phdnaljmfkcgoebi\n",
      "15 lachkomdpjefbing\n",
      "16 ajimlecphndbgfok\n",
      "17 kdopiafbcehjnlgm\n",
      "18 ibdjamglkpfhoecn\n",
      "19 heafkbmgpliocjnd\n",
      "20 afpchgeinmdbjkol\n",
      "21 khgpedocbfmanlji\n",
      "22 ebcdafghijklonmp\n",
      "23 dpbokeajhlicmgnf\n",
      "24 akfcdgielbnjphom\n",
      "25 khdabljmfocgnepi\n",
      "26 bnchakmdpjefoilg\n",
      "27 gjimkecphadblfno\n",
      "28 adkpgnfbcehjilom\n",
      "29 kbdjcmglopfhneia\n",
      "30 cenfabmgplikojhd\n",
      "31 jfpckgeiamdbhonl\n",
      "32 ahgpjdkcbfmneloi\n",
      "33 kbcdmfghijolnaep\n",
      "34 mpbkaenjhlicogdf\n",
      "35 pofckgielbajdhnm\n",
      "36 ahdnpljmfkcgbeoi\n",
      "37 kachlomdpjefnibg\n",
      "38 ljimaecphndbofgk\n",
      "39 idopkafbcehjglnm\n",
      "40 abdjimglkpfhceon\n",
      "41 keafhbmgplionjcd\n",
      "42 hfpcageinmdbokjl\n",
      "43 ehgpkdocbfmajlni\n",
      "0 abcdefghijklmnop\n",
      "1 kpbodeajhlicngmf\n",
      "2 dkfcagielbnjohpm\n",
      "3 bhdakljmfocgpeni\n",
      "4 anchbkmdpjefliog\n",
      "5 kjimgecphadbnflo\n",
      "6 gdkpanfbcehjolim\n"
     ]
    }
   ],
   "source": [
    "s = puzzle_str\n",
    "print(0, s)\n",
    "for i in range(50):\n",
    "    s = string_dance(s, puzzle_moves)\n",
    "    print((i+1) % 44, s)"
   ]
  },
  {
   "cell_type": "markdown",
   "metadata": {},
   "source": []
  }
 ],
 "metadata": {
  "kernelspec": {
   "display_name": "py36",
   "language": "python",
   "name": "py36"
  },
  "language_info": {
   "codemirror_mode": {
    "name": "ipython",
    "version": 3
   },
   "file_extension": ".py",
   "mimetype": "text/x-python",
   "name": "python",
   "nbconvert_exporter": "python",
   "pygments_lexer": "ipython3",
   "version": "3.6.3"
  }
 },
 "nbformat": 4,
 "nbformat_minor": 2
}
