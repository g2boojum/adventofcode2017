{
 "cells": [
  {
   "cell_type": "code",
   "execution_count": 1,
   "metadata": {},
   "outputs": [],
   "source": [
    "%matplotlib inline\n",
    "import pandas as pd\n",
    "import numpy as np\n",
    "import matplotlib.pyplot as plt\n",
    "import scipy as sp\n",
    "import scipy.optimize as spo\n",
    "import statsmodels.api as sm\n",
    "from statsmodels.graphics.dotplots import dot_plot\n",
    "from scipy.interpolate import interp1d\n",
    "import seaborn as sns\n",
    "params = {'figure.figsize': (10,7),\n",
    "          'axes.labelsize': 18,\n",
    "          'font.size': 18,\n",
    "          'xtick.labelsize': 16,\n",
    "          'ytick.labelsize': 16,\n",
    "          'legend.fontsize': 16}\n",
    "sns.set(palette='Set2', rc=params)\n",
    "sns.set_style('white')"
   ]
  },
  {
   "cell_type": "markdown",
   "metadata": {},
   "source": [
    "### puzzle 1 ###"
   ]
  },
  {
   "cell_type": "markdown",
   "metadata": {},
   "source": [
    "```\n",
    "17 16 15 14 13\n",
    "18  5  4  3 12\n",
    "19  6  1  2 11           <-- spiralled grid, 1 is at (0,0), 13 is at (+2, +2)\n",
    "20  7  8  9 10\n",
    "21 22 23 24 25 26\n",
    "```"
   ]
  },
  {
   "cell_type": "code",
   "execution_count": 2,
   "metadata": {},
   "outputs": [],
   "source": [
    "def grid_size(j):\n",
    "    return (2*j + 1)**2\n",
    "def perimeter_size(j):\n",
    "    if j == 0:\n",
    "        return 1\n",
    "    else:\n",
    "        return 8*j\n",
    "def perimeter_side(j):\n",
    "    return 2*j + 1\n",
    "def first_num_in_perimeter(j):\n",
    "    if j == 0:\n",
    "        return 1\n",
    "    else:\n",
    "        return (2*j - 1)**2 + 1\n",
    "def perimeter_origin(j):\n",
    "    if j == 0:\n",
    "        return (0, 0)\n",
    "    else:\n",
    "        return (+j, -(j-1))\n",
    "def manhattan_distance_to_origin(a, b): \n",
    "    #https://en.wikipedia.org/wiki/Taxicab_geometry\n",
    "    return abs(a) + abs(b)"
   ]
  },
  {
   "cell_type": "code",
   "execution_count": 3,
   "metadata": {},
   "outputs": [
    {
     "name": "stdout",
     "output_type": "stream",
     "text": [
      "279 312481 310250\n"
     ]
    }
   ],
   "source": [
    "cell = 312051\n",
    "jcell = int((np.sqrt(cell) - 1)/2) + 1\n",
    "print(jcell, grid_size(jcell), first_num_in_perimeter(jcell))"
   ]
  },
  {
   "cell_type": "markdown",
   "metadata": {},
   "source": [
    "Wrapping around each perimeter:\n",
    "\n",
    "```\n",
    " 7  6  5  4  3\n",
    " 8  3  2  1  2\n",
    " 9  4  0  0  1\n",
    "10  5  6  7  0\n",
    "11 12 13 14 15  0\n",
    "```"
   ]
  },
  {
   "cell_type": "code",
   "execution_count": 4,
   "metadata": {},
   "outputs": [],
   "source": [
    "def NE(j):\n",
    "    Lj = perimeter_side(j)\n",
    "    if j == 0:\n",
    "        return 0\n",
    "    else:\n",
    "        return Lj - 2\n",
    "def NW(j):\n",
    "    Lj = perimeter_side(j)\n",
    "    if j == 0:\n",
    "        return 0\n",
    "    else:\n",
    "        return 2*Lj - 3\n",
    "def SW(j):\n",
    "    Lj = perimeter_side(j)\n",
    "    if j == 0:\n",
    "        return 0\n",
    "    else:\n",
    "        return 3*Lj - 4\n",
    "def SE(j):\n",
    "    if j == 0:\n",
    "        return 0\n",
    "    else:\n",
    "        return perimeter_size(j) - 1"
   ]
  },
  {
   "cell_type": "code",
   "execution_count": 5,
   "metadata": {},
   "outputs": [
    {
     "name": "stdout",
     "output_type": "stream",
     "text": [
      "0 0 0 0\n",
      "1 3 5 7\n",
      "3 7 11 15\n",
      "5 11 17 23\n"
     ]
    }
   ],
   "source": [
    "for j in (0, 1, 2, 3):\n",
    "    print(NE(j), NW(j), SW(j), SE(j))"
   ]
  },
  {
   "cell_type": "code",
   "execution_count": 6,
   "metadata": {},
   "outputs": [
    {
     "name": "stdout",
     "output_type": "stream",
     "text": [
      "1801\n",
      "557 1115 1673 2231\n"
     ]
    }
   ],
   "source": [
    "offset = first_num_in_perimeter(jcell)\n",
    "perim_loc = cell - offset\n",
    "print (perim_loc)\n",
    "print(NE(jcell), NW(jcell), SW(jcell), SE(jcell))"
   ]
  },
  {
   "cell_type": "markdown",
   "metadata": {},
   "source": [
    "1801 is between SW and SE, so it's on the south portion of the perimeter."
   ]
  },
  {
   "cell_type": "code",
   "execution_count": 7,
   "metadata": {},
   "outputs": [],
   "source": [
    "def NEpos(j):\n",
    "    return (+j,+j)\n",
    "def NWpos(j):\n",
    "    return (-j,+j)\n",
    "def SWpos(j):\n",
    "    return (-j, -j)\n",
    "def SEpos(j):\n",
    "    return (+j, -j)"
   ]
  },
  {
   "cell_type": "code",
   "execution_count": 8,
   "metadata": {},
   "outputs": [
    {
     "data": {
      "text/plain": [
       "(-279, -279)"
      ]
     },
     "execution_count": 8,
     "metadata": {},
     "output_type": "execute_result"
    }
   ],
   "source": [
    "SWpos(jcell)"
   ]
  },
  {
   "cell_type": "code",
   "execution_count": 9,
   "metadata": {},
   "outputs": [
    {
     "name": "stdout",
     "output_type": "stream",
     "text": [
      "-151 -279\n"
     ]
    }
   ],
   "source": [
    "xcell = SWpos(jcell)[0] + (perim_loc - SW(jcell))\n",
    "ycell = SWpos(jcell)[1]\n",
    "print(xcell, ycell)"
   ]
  },
  {
   "cell_type": "code",
   "execution_count": 10,
   "metadata": {},
   "outputs": [
    {
     "name": "stdout",
     "output_type": "stream",
     "text": [
      "430\n"
     ]
    }
   ],
   "source": [
    "distance = manhattan_distance_to_origin(xcell, ycell)\n",
    "print(distance)"
   ]
  },
  {
   "cell_type": "markdown",
   "metadata": {},
   "source": [
    "### puzzle 2 ###"
   ]
  },
  {
   "cell_type": "markdown",
   "metadata": {},
   "source": [
    "Same spiral storage pattern, but the numbers in each cell come from the numbers filled beforehand.\n",
    "\n",
    "* The center is filled with 1\n",
    "* Each perimeter is filled in order with the sum of all adjacent filled-in values (including diagonally adjacent\n",
    "* What is the first cell value that is larger than the input (\"cell\") of the first puzzle?\n",
    "\n",
    "```\n",
    "147 142 133 122  59\n",
    "304   5   4   2  57\n",
    "330  10   1   1  54\n",
    "351  11  23  25  26\n",
    "362 747 806 ...\n",
    "```\n",
    "\n",
    "It's not worth trying to do math here, just fill the silly thing."
   ]
  },
  {
   "cell_type": "code",
   "execution_count": 37,
   "metadata": {},
   "outputs": [],
   "source": [
    "size = 11\n",
    "A = np.zeros([size, size])\n",
    "def ridx(y):\n",
    "    return size//2 - y\n",
    "def cidx(x):\n",
    "    return size//2 + x\n",
    "A[ridx(0), cidx(0)] = 1"
   ]
  },
  {
   "cell_type": "code",
   "execution_count": 38,
   "metadata": {},
   "outputs": [],
   "source": [
    "def fill_value(x, y):\n",
    "    row = ridx(y); col=cidx(x)\n",
    "    A[row, col] = sum(A[row+roff, col+coff] for roff in (-1, 0, +1) for coff in (-1, 0, +1))"
   ]
  },
  {
   "cell_type": "code",
   "execution_count": 39,
   "metadata": {},
   "outputs": [],
   "source": [
    "def fill_perimeter(p):\n",
    "    x0, y0 = perimeter_origin(p)\n",
    "    L = perimeter_side(p)\n",
    "    w = L//2\n",
    "    # east side fill\n",
    "    x = x0\n",
    "    for y in range(y0, w + 1):\n",
    "        fill_value(x, y)\n",
    "    # north side fill\n",
    "    y = w\n",
    "    for x in range(w - 1, -w - 1, -1):\n",
    "        fill_value(x, y)\n",
    "    # west side fill\n",
    "    x = -w\n",
    "    for y in range(w-1, -w-1, -1):\n",
    "        fill_value(x,y)\n",
    "    # south side fill\n",
    "    y = -w\n",
    "    for x in range(-w + 1, w+1):\n",
    "        fill_value(x,y)"
   ]
  },
  {
   "cell_type": "code",
   "execution_count": 40,
   "metadata": {},
   "outputs": [
    {
     "name": "stdout",
     "output_type": "stream",
     "text": [
      "1.0 312051\n",
      "25.0 312051\n",
      "931.0 312051\n",
      "47108.0 312051\n",
      "2909666.0 312051\n"
     ]
    }
   ],
   "source": [
    "for p in range(5):\n",
    "    fill_perimeter(p)\n",
    "    print(np.max(A), cell)"
   ]
  },
  {
   "cell_type": "code",
   "execution_count": 41,
   "metadata": {},
   "outputs": [],
   "source": [
    "def ck_val(x, y):\n",
    "    row = ridx(y); col = cidx(x)\n",
    "    if A[row, col] > cell:\n",
    "        return A[row, col]\n",
    "    return 0\n",
    "\n",
    "def scan_perimeter(p):\n",
    "    x0, y0 = perimeter_origin(p)\n",
    "    L = perimeter_side(p)\n",
    "    w = L//2\n",
    "    # east side fill\n",
    "    x = x0\n",
    "    for y in range(y0, w + 1):\n",
    "        v = ck_val(x, y)\n",
    "        if v:\n",
    "            return v\n",
    "    # north side fill\n",
    "    y = w\n",
    "    for x in range(w - 1, -w - 1, -1):\n",
    "        v = ck_val(x, y)\n",
    "        if v:\n",
    "            return v\n",
    "    # west side fill\n",
    "    x = -w\n",
    "    for y in range(w-1, -w-1, -1):\n",
    "        v = ck_val(x, y)\n",
    "        if v:\n",
    "            return v\n",
    "    # south side fill\n",
    "    y = -w\n",
    "    for x in range(-w + 1, w+1):\n",
    "        v = ck_val(x, y)\n",
    "        if v:\n",
    "            return v\n",
    "    return 0"
   ]
  },
  {
   "cell_type": "code",
   "execution_count": 44,
   "metadata": {},
   "outputs": [
    {
     "data": {
      "text/plain": [
       "312453.0"
      ]
     },
     "execution_count": 44,
     "metadata": {},
     "output_type": "execute_result"
    }
   ],
   "source": [
    "scan_perimeter(4)"
   ]
  },
  {
   "cell_type": "code",
   "execution_count": null,
   "metadata": {},
   "outputs": [],
   "source": []
  }
 ],
 "metadata": {
  "kernelspec": {
   "display_name": "py36",
   "language": "python",
   "name": "py36"
  },
  "language_info": {
   "codemirror_mode": {
    "name": "ipython",
    "version": 3
   },
   "file_extension": ".py",
   "mimetype": "text/x-python",
   "name": "python",
   "nbconvert_exporter": "python",
   "pygments_lexer": "ipython3",
   "version": "3.6.3"
  }
 },
 "nbformat": 4,
 "nbformat_minor": 2
}
