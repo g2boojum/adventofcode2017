{
 "cells": [
  {
   "cell_type": "markdown",
   "metadata": {},
   "source": [
    "### puzzle 1 ###\n",
    "\n",
    "Hexagonal grid: cubic coordinate system from https://www.redblobgames.com/grids/hexagons/"
   ]
  },
  {
   "cell_type": "code",
   "execution_count": 5,
   "metadata": {},
   "outputs": [],
   "source": [
    "def n(x, y, z):\n",
    "    return (x, y+1, z-1)\n",
    "def s(x, y, z):\n",
    "    return (x, y-1, z+1)\n",
    "def ne(x, y, z):\n",
    "    return (x+1, y, z-1)\n",
    "def se(x, y, z):\n",
    "    return(x+1, y-1, z)\n",
    "def nw(x, y, z):\n",
    "    return (x-1, y+1, z)\n",
    "def sw(x, y, z):\n",
    "    return (x-1, y, z+1)\n",
    "moves = {'n': n, 's': s, 'ne': ne, 'nw': nw, 'se': se, 'sw': sw}\n",
    "def dist_to_origin(x, y, z):\n",
    "    return (abs(x) + abs(y) + abs(z))//2"
   ]
  },
  {
   "cell_type": "code",
   "execution_count": 6,
   "metadata": {},
   "outputs": [
    {
     "name": "stdout",
     "output_type": "stream",
     "text": [
      "-1 -2 3\n",
      "3\n"
     ]
    }
   ],
   "source": [
    "steps = ['se', 'sw', 'se', 'sw', 'sw']\n",
    "x = y = z = 0\n",
    "for step in steps:\n",
    "    x, y, z = moves[step](x, y, z)\n",
    "print(x, y, z)\n",
    "print(dist_to_origin(x, y, z))"
   ]
  },
  {
   "cell_type": "code",
   "execution_count": 9,
   "metadata": {},
   "outputs": [
    {
     "name": "stdout",
     "output_type": "stream",
     "text": [
      "784\n"
     ]
    }
   ],
   "source": [
    "puzzle_data = open('day11_input').read()\n",
    "steps = puzzle_data.split(',')\n",
    "x = y = z = 0\n",
    "for step in steps:\n",
    "    x, y, z = moves[step.strip()](x, y, z)\n",
    "print(dist_to_origin(x, y, z))"
   ]
  },
  {
   "cell_type": "markdown",
   "metadata": {},
   "source": [
    "### puzzle 2 ###"
   ]
  },
  {
   "cell_type": "code",
   "execution_count": 10,
   "metadata": {},
   "outputs": [
    {
     "name": "stdout",
     "output_type": "stream",
     "text": [
      "1558\n"
     ]
    }
   ],
   "source": [
    "x = y = z = 0\n",
    "max_dist = 0\n",
    "for step in steps:\n",
    "    x, y, z = moves[step.strip()](x, y, z)\n",
    "    dist = dist_to_origin(x, y, z)\n",
    "    if dist > max_dist:\n",
    "        max_dist = dist\n",
    "print(max_dist)"
   ]
  },
  {
   "cell_type": "code",
   "execution_count": null,
   "metadata": {},
   "outputs": [],
   "source": []
  }
 ],
 "metadata": {
  "kernelspec": {
   "display_name": "py36",
   "language": "python",
   "name": "py36"
  },
  "language_info": {
   "codemirror_mode": {
    "name": "ipython",
    "version": 3
   },
   "file_extension": ".py",
   "mimetype": "text/x-python",
   "name": "python",
   "nbconvert_exporter": "python",
   "pygments_lexer": "ipython3",
   "version": "3.6.3"
  }
 },
 "nbformat": 4,
 "nbformat_minor": 2
}
