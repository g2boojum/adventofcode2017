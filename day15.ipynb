{
 "cells": [
  {
   "cell_type": "markdown",
   "metadata": {},
   "source": [
    "### puzzle 1 ###"
   ]
  },
  {
   "cell_type": "code",
   "execution_count": 1,
   "metadata": {},
   "outputs": [],
   "source": [
    "seedA = 277\n",
    "seedB = 349\n",
    "factorA = 16807\n",
    "factorB = 48271\n",
    "divisor = 2147483647"
   ]
  },
  {
   "cell_type": "code",
   "execution_count": 2,
   "metadata": {},
   "outputs": [],
   "source": [
    "seedA_test = 65\n",
    "seedB_test = 8921"
   ]
  },
  {
   "cell_type": "code",
   "execution_count": 3,
   "metadata": {},
   "outputs": [],
   "source": [
    "def gen(seed, factor, divisor):\n",
    "    num = seed\n",
    "    while True:\n",
    "        num = (num*factor) % divisor\n",
    "        yield bin(num)[-16:]"
   ]
  },
  {
   "cell_type": "code",
   "execution_count": 4,
   "metadata": {},
   "outputs": [],
   "source": [
    "genAtest = gen(seedA_test, factorA, divisor)\n",
    "genBtest = gen(seedB_test, factorB, divisor)\n",
    "assert(588 == sum(1 for i in range(40000000) if next(genAtest) == next(genBtest)))"
   ]
  },
  {
   "cell_type": "code",
   "execution_count": 5,
   "metadata": {},
   "outputs": [
    {
     "data": {
      "text/plain": [
       "592"
      ]
     },
     "execution_count": 5,
     "metadata": {},
     "output_type": "execute_result"
    }
   ],
   "source": [
    "genA = gen(seedA, factorA, divisor)\n",
    "genB = gen(seedB, factorB, divisor)\n",
    "sum(1 for i in range(40000000) if next(genA) == next(genB))"
   ]
  },
  {
   "cell_type": "markdown",
   "metadata": {},
   "source": [
    "### puzzle 2 ###"
   ]
  },
  {
   "cell_type": "code",
   "execution_count": 6,
   "metadata": {},
   "outputs": [
    {
     "data": {
      "text/plain": [
       "309"
      ]
     },
     "execution_count": 6,
     "metadata": {},
     "output_type": "execute_result"
    }
   ],
   "source": [
    "def gen2(seed, factor, multiple, divisor):\n",
    "    num = seed\n",
    "    while True:\n",
    "        num = (num*factor) % divisor\n",
    "        if num % multiple == 0:\n",
    "            yield bin(num)[-16:]\n",
    "multipleA = 4\n",
    "multipleB = 8\n",
    "gen2Atest = gen2(seedA_test, factorA, multipleA, divisor)\n",
    "gen2Btest = gen2(seedB_test, factorB, multipleB, divisor)\n",
    "sum(1 for i in range(5000000) if next(gen2Atest) == next(gen2Btest))"
   ]
  },
  {
   "cell_type": "code",
   "execution_count": 7,
   "metadata": {},
   "outputs": [
    {
     "data": {
      "text/plain": [
       "320"
      ]
     },
     "execution_count": 7,
     "metadata": {},
     "output_type": "execute_result"
    }
   ],
   "source": [
    "gen2A = gen2(seedA, factorA, multipleA, divisor)\n",
    "gen2B = gen2(seedB, factorB, multipleB, divisor)\n",
    "sum(1 for i in range(5000000) if next(gen2A) == next(gen2B))"
   ]
  },
  {
   "cell_type": "code",
   "execution_count": null,
   "metadata": {},
   "outputs": [],
   "source": []
  }
 ],
 "metadata": {
  "kernelspec": {
   "display_name": "py36",
   "language": "python",
   "name": "py36"
  },
  "language_info": {
   "codemirror_mode": {
    "name": "ipython",
    "version": 3
   },
   "file_extension": ".py",
   "mimetype": "text/x-python",
   "name": "python",
   "nbconvert_exporter": "python",
   "pygments_lexer": "ipython3",
   "version": "3.6.3"
  }
 },
 "nbformat": 4,
 "nbformat_minor": 2
}
