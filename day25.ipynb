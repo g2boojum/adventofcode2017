{
 "cells": [
  {
   "cell_type": "markdown",
   "metadata": {},
   "source": [
    "### puzzle 1 ###"
   ]
  },
  {
   "cell_type": "code",
   "execution_count": 1,
   "metadata": {},
   "outputs": [],
   "source": [
    "import collections"
   ]
  },
  {
   "cell_type": "code",
   "execution_count": 2,
   "metadata": {},
   "outputs": [],
   "source": [
    "test_states = {'A': [(1, +1, 'B'), (0, -1, 'B')],\n",
    "               'B': [(1, -1, 'A'), (1, +1, 'A')]}\n",
    "test_diagnostic_steps = 6"
   ]
  },
  {
   "cell_type": "code",
   "execution_count": 3,
   "metadata": {},
   "outputs": [],
   "source": [
    "def process(actions, init_pos, init_state, num_steps):\n",
    "    pos = init_pos\n",
    "    state = init_state\n",
    "    tape = collections.defaultdict(int)\n",
    "    for step in range(num_steps):\n",
    "        curr_val = tape[pos]\n",
    "        newval,dx,newstate = actions[state][curr_val]\n",
    "        tape[pos] = newval\n",
    "        pos += dx\n",
    "        state = newstate\n",
    "    return tape\n",
    "def checksum(tape):\n",
    "    return sum(tape.values())"
   ]
  },
  {
   "cell_type": "code",
   "execution_count": 4,
   "metadata": {},
   "outputs": [],
   "source": [
    "test_tape = process(test_states, 0, 'A', test_diagnostic_steps)"
   ]
  },
  {
   "cell_type": "code",
   "execution_count": 5,
   "metadata": {},
   "outputs": [],
   "source": [
    "assert(3 == checksum(test_tape))"
   ]
  },
  {
   "cell_type": "code",
   "execution_count": 6,
   "metadata": {},
   "outputs": [],
   "source": [
    "puzzle_diagnostic_steps = 12_794_428\n",
    "puzzle_states = {'A': [(1, +1, 'B'), (0, -1, 'F')],\n",
    "                 'B': [(0, +1, 'C'), (0, +1, 'D')],\n",
    "                 'C': [(1, -1, 'D'), (1, +1, 'E')],\n",
    "                 'D': [(0, -1, 'E'), (0, -1, 'D')],\n",
    "                 'E': [(0, +1, 'A'), (1, +1, 'C')],\n",
    "                 'F': [(1, -1, 'A'), (1, +1, 'A')]}"
   ]
  },
  {
   "cell_type": "code",
   "execution_count": 7,
   "metadata": {},
   "outputs": [],
   "source": [
    "puzzle_tape = process(puzzle_states, 0, 'A', puzzle_diagnostic_steps)"
   ]
  },
  {
   "cell_type": "code",
   "execution_count": 8,
   "metadata": {},
   "outputs": [
    {
     "data": {
      "text/plain": [
       "2832"
      ]
     },
     "execution_count": 8,
     "metadata": {},
     "output_type": "execute_result"
    }
   ],
   "source": [
    "checksum(puzzle_tape)"
   ]
  },
  {
   "cell_type": "code",
   "execution_count": null,
   "metadata": {},
   "outputs": [],
   "source": []
  }
 ],
 "metadata": {
  "kernelspec": {
   "display_name": "py36",
   "language": "python",
   "name": "py36"
  },
  "language_info": {
   "codemirror_mode": {
    "name": "ipython",
    "version": 3
   },
   "file_extension": ".py",
   "mimetype": "text/x-python",
   "name": "python",
   "nbconvert_exporter": "python",
   "pygments_lexer": "ipython3",
   "version": "3.6.3"
  }
 },
 "nbformat": 4,
 "nbformat_minor": 2
}
