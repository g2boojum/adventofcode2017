{
 "cells": [
  {
   "cell_type": "markdown",
   "metadata": {},
   "source": [
    "### puzzle 1 ###"
   ]
  },
  {
   "cell_type": "code",
   "execution_count": 1,
   "metadata": {},
   "outputs": [],
   "source": [
    "test_data = '''0/2\n",
    "2/2\n",
    "2/3\n",
    "3/4\n",
    "3/5\n",
    "0/1\n",
    "10/1\n",
    "9/10'''.split('\\n')\n"
   ]
  },
  {
   "cell_type": "code",
   "execution_count": 2,
   "metadata": {},
   "outputs": [
    {
     "data": {
      "text/plain": [
       "[(0, 2), (2, 2), (2, 3), (3, 4), (3, 5), (0, 1), (10, 1), (9, 10)]"
      ]
     },
     "execution_count": 2,
     "metadata": {},
     "output_type": "execute_result"
    }
   ],
   "source": [
    "def parse_data(data):\n",
    "    connectors = []\n",
    "    for item in data:\n",
    "        a,slash,b = item.partition('/')\n",
    "        connectors.append((int(a), int(b)))\n",
    "    return connectors\n",
    "test_connectors = parse_data(test_data)\n",
    "test_connectors"
   ]
  },
  {
   "cell_type": "code",
   "execution_count": 3,
   "metadata": {},
   "outputs": [],
   "source": [
    "def build_bridges(end, bridge_so_far, connectors):\n",
    "    for i,c in enumerate(connectors):\n",
    "        if (end == c[0]) or (end == c[1]):\n",
    "            if end == c[0]:\n",
    "                newend = c[1]\n",
    "            else:\n",
    "                newend = c[0]\n",
    "            bridge = bridge_so_far + [c]\n",
    "            new_connectors = connectors[:i] + connectors[i+1:]\n",
    "            yield bridge\n",
    "            yield from build_bridges(newend, bridge, new_connectors)"
   ]
  },
  {
   "cell_type": "code",
   "execution_count": 4,
   "metadata": {},
   "outputs": [
    {
     "name": "stdout",
     "output_type": "stream",
     "text": [
      "[(0, 2)]\n",
      "[(0, 2), (2, 2)]\n",
      "[(0, 2), (2, 2), (2, 3)]\n",
      "[(0, 2), (2, 2), (2, 3), (3, 4)]\n",
      "[(0, 2), (2, 2), (2, 3), (3, 5)]\n",
      "[(0, 2), (2, 3)]\n",
      "[(0, 2), (2, 3), (3, 4)]\n",
      "[(0, 2), (2, 3), (3, 5)]\n",
      "[(0, 1)]\n",
      "[(0, 1), (10, 1)]\n",
      "[(0, 1), (10, 1), (9, 10)]\n"
     ]
    }
   ],
   "source": [
    "for bridge in build_bridges(0, [], test_connectors):\n",
    "    print(bridge)"
   ]
  },
  {
   "cell_type": "code",
   "execution_count": 5,
   "metadata": {},
   "outputs": [
    {
     "data": {
      "text/plain": [
       "[([(0, 2)], 2),\n",
       " ([(0, 2), (2, 2)], 6),\n",
       " ([(0, 2), (2, 2), (2, 3)], 11),\n",
       " ([(0, 2), (2, 2), (2, 3), (3, 4)], 18),\n",
       " ([(0, 2), (2, 2), (2, 3), (3, 5)], 19),\n",
       " ([(0, 2), (2, 3)], 7),\n",
       " ([(0, 2), (2, 3), (3, 4)], 14),\n",
       " ([(0, 2), (2, 3), (3, 5)], 15),\n",
       " ([(0, 1)], 1),\n",
       " ([(0, 1), (10, 1)], 12),\n",
       " ([(0, 1), (10, 1), (9, 10)], 31)]"
      ]
     },
     "execution_count": 5,
     "metadata": {},
     "output_type": "execute_result"
    }
   ],
   "source": [
    "def score(bridge):\n",
    "    s = 0\n",
    "    for c in bridge:\n",
    "        s += c[0] + c[1]\n",
    "    return s\n",
    "[(bridge, score(bridge)) for bridge in build_bridges(0, [], test_connectors)]"
   ]
  },
  {
   "cell_type": "code",
   "execution_count": 6,
   "metadata": {},
   "outputs": [
    {
     "data": {
      "text/plain": [
       "31"
      ]
     },
     "execution_count": 6,
     "metadata": {},
     "output_type": "execute_result"
    }
   ],
   "source": [
    "max(score(bridge) for bridge in build_bridges(0, [], test_connectors))"
   ]
  },
  {
   "cell_type": "code",
   "execution_count": 7,
   "metadata": {},
   "outputs": [
    {
     "data": {
      "text/plain": [
       "1859"
      ]
     },
     "execution_count": 7,
     "metadata": {},
     "output_type": "execute_result"
    }
   ],
   "source": [
    "puzzle_data = open('day24_input').read().split('\\n')[:-1]\n",
    "puzzle_connectors = parse_data(puzzle_data)\n",
    "max(score(bridge) for bridge in build_bridges(0, [], puzzle_connectors))"
   ]
  },
  {
   "cell_type": "markdown",
   "metadata": {},
   "source": [
    "### puzzle 2 ###"
   ]
  },
  {
   "cell_type": "code",
   "execution_count": 8,
   "metadata": {},
   "outputs": [
    {
     "data": {
      "text/plain": [
       "[1, 2, 3, 4, 4, 2, 3, 3, 1, 2, 3]"
      ]
     },
     "execution_count": 8,
     "metadata": {},
     "output_type": "execute_result"
    }
   ],
   "source": [
    "test_bridges = [bridge for bridge in build_bridges(0, [], test_connectors)]\n",
    "test_lengths = [len(bridge) for bridge in test_bridges]\n",
    "test_lengths"
   ]
  },
  {
   "cell_type": "code",
   "execution_count": 9,
   "metadata": {},
   "outputs": [
    {
     "data": {
      "text/plain": [
       "[2, 6, 11, 18, 19, 7, 14, 15, 1, 12, 31]"
      ]
     },
     "execution_count": 9,
     "metadata": {},
     "output_type": "execute_result"
    }
   ],
   "source": [
    "test_scores = [score(bridge) for bridge in test_bridges]\n",
    "test_scores"
   ]
  },
  {
   "cell_type": "code",
   "execution_count": 10,
   "metadata": {},
   "outputs": [],
   "source": [
    "import pandas as pd"
   ]
  },
  {
   "cell_type": "code",
   "execution_count": 11,
   "metadata": {},
   "outputs": [
    {
     "data": {
      "text/html": [
       "<div>\n",
       "<style scoped>\n",
       "    .dataframe tbody tr th:only-of-type {\n",
       "        vertical-align: middle;\n",
       "    }\n",
       "\n",
       "    .dataframe tbody tr th {\n",
       "        vertical-align: top;\n",
       "    }\n",
       "\n",
       "    .dataframe thead th {\n",
       "        text-align: right;\n",
       "    }\n",
       "</style>\n",
       "<table border=\"1\" class=\"dataframe\">\n",
       "  <thead>\n",
       "    <tr style=\"text-align: right;\">\n",
       "      <th></th>\n",
       "      <th>bridge</th>\n",
       "      <th>len</th>\n",
       "      <th>score</th>\n",
       "    </tr>\n",
       "  </thead>\n",
       "  <tbody>\n",
       "    <tr>\n",
       "      <th>0</th>\n",
       "      <td>[(0, 2)]</td>\n",
       "      <td>1</td>\n",
       "      <td>2</td>\n",
       "    </tr>\n",
       "    <tr>\n",
       "      <th>1</th>\n",
       "      <td>[(0, 2), (2, 2)]</td>\n",
       "      <td>2</td>\n",
       "      <td>6</td>\n",
       "    </tr>\n",
       "    <tr>\n",
       "      <th>2</th>\n",
       "      <td>[(0, 2), (2, 2), (2, 3)]</td>\n",
       "      <td>3</td>\n",
       "      <td>11</td>\n",
       "    </tr>\n",
       "    <tr>\n",
       "      <th>3</th>\n",
       "      <td>[(0, 2), (2, 2), (2, 3), (3, 4)]</td>\n",
       "      <td>4</td>\n",
       "      <td>18</td>\n",
       "    </tr>\n",
       "    <tr>\n",
       "      <th>4</th>\n",
       "      <td>[(0, 2), (2, 2), (2, 3), (3, 5)]</td>\n",
       "      <td>4</td>\n",
       "      <td>19</td>\n",
       "    </tr>\n",
       "    <tr>\n",
       "      <th>5</th>\n",
       "      <td>[(0, 2), (2, 3)]</td>\n",
       "      <td>2</td>\n",
       "      <td>7</td>\n",
       "    </tr>\n",
       "    <tr>\n",
       "      <th>6</th>\n",
       "      <td>[(0, 2), (2, 3), (3, 4)]</td>\n",
       "      <td>3</td>\n",
       "      <td>14</td>\n",
       "    </tr>\n",
       "    <tr>\n",
       "      <th>7</th>\n",
       "      <td>[(0, 2), (2, 3), (3, 5)]</td>\n",
       "      <td>3</td>\n",
       "      <td>15</td>\n",
       "    </tr>\n",
       "    <tr>\n",
       "      <th>8</th>\n",
       "      <td>[(0, 1)]</td>\n",
       "      <td>1</td>\n",
       "      <td>1</td>\n",
       "    </tr>\n",
       "    <tr>\n",
       "      <th>9</th>\n",
       "      <td>[(0, 1), (10, 1)]</td>\n",
       "      <td>2</td>\n",
       "      <td>12</td>\n",
       "    </tr>\n",
       "    <tr>\n",
       "      <th>10</th>\n",
       "      <td>[(0, 1), (10, 1), (9, 10)]</td>\n",
       "      <td>3</td>\n",
       "      <td>31</td>\n",
       "    </tr>\n",
       "  </tbody>\n",
       "</table>\n",
       "</div>"
      ],
      "text/plain": [
       "                              bridge  len  score\n",
       "0                           [(0, 2)]    1      2\n",
       "1                   [(0, 2), (2, 2)]    2      6\n",
       "2           [(0, 2), (2, 2), (2, 3)]    3     11\n",
       "3   [(0, 2), (2, 2), (2, 3), (3, 4)]    4     18\n",
       "4   [(0, 2), (2, 2), (2, 3), (3, 5)]    4     19\n",
       "5                   [(0, 2), (2, 3)]    2      7\n",
       "6           [(0, 2), (2, 3), (3, 4)]    3     14\n",
       "7           [(0, 2), (2, 3), (3, 5)]    3     15\n",
       "8                           [(0, 1)]    1      1\n",
       "9                  [(0, 1), (10, 1)]    2     12\n",
       "10        [(0, 1), (10, 1), (9, 10)]    3     31"
      ]
     },
     "execution_count": 11,
     "metadata": {},
     "output_type": "execute_result"
    }
   ],
   "source": [
    "test_df = pd.DataFrame({'bridge':test_bridges, 'len': test_lengths, 'score': test_scores})\n",
    "test_df"
   ]
  },
  {
   "cell_type": "code",
   "execution_count": 12,
   "metadata": {},
   "outputs": [],
   "source": [
    "puzzle_bridges = [bridge for bridge in build_bridges(0, [], puzzle_connectors)]\n",
    "puzzle_lengths = [len(bridge) for bridge in puzzle_bridges]\n",
    "puzzle_scores = [score(bridge) for bridge in puzzle_bridges]"
   ]
  },
  {
   "cell_type": "code",
   "execution_count": 13,
   "metadata": {},
   "outputs": [
    {
     "data": {
      "text/plain": [
       "35"
      ]
     },
     "execution_count": 13,
     "metadata": {},
     "output_type": "execute_result"
    }
   ],
   "source": [
    "puzzle_df = pd.DataFrame({'bridge': puzzle_bridges, 'len': puzzle_lengths, 'score': puzzle_scores})\n",
    "max_length = max(puzzle_df['len'])\n",
    "max_length"
   ]
  },
  {
   "cell_type": "code",
   "execution_count": 14,
   "metadata": {},
   "outputs": [
    {
     "data": {
      "text/plain": [
       "1799"
      ]
     },
     "execution_count": 14,
     "metadata": {},
     "output_type": "execute_result"
    }
   ],
   "source": [
    "longest = puzzle_df[puzzle_df['len'] == 35]\n",
    "max(longest['score'])"
   ]
  },
  {
   "cell_type": "code",
   "execution_count": null,
   "metadata": {},
   "outputs": [],
   "source": []
  }
 ],
 "metadata": {
  "kernelspec": {
   "display_name": "py36",
   "language": "python",
   "name": "py36"
  },
  "language_info": {
   "codemirror_mode": {
    "name": "ipython",
    "version": 3
   },
   "file_extension": ".py",
   "mimetype": "text/x-python",
   "name": "python",
   "nbconvert_exporter": "python",
   "pygments_lexer": "ipython3",
   "version": "3.6.3"
  }
 },
 "nbformat": 4,
 "nbformat_minor": 2
}
