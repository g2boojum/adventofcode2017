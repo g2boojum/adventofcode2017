{
 "cells": [
  {
   "cell_type": "markdown",
   "metadata": {},
   "source": [
    "### puzzle 1 ###"
   ]
  },
  {
   "cell_type": "code",
   "execution_count": 1,
   "metadata": {},
   "outputs": [],
   "source": [
    "def jump(buffer, pos, steps):\n",
    "    size = len(buffer)\n",
    "    newpos = (pos + steps) % size\n",
    "    return buffer, newpos\n",
    "def insert(buffer, pos, val):\n",
    "    newpos = pos + 1\n",
    "    buffer.insert(newpos, val)\n",
    "    return buffer, newpos"
   ]
  },
  {
   "cell_type": "code",
   "execution_count": 2,
   "metadata": {},
   "outputs": [],
   "source": [
    "def spinlock(stepsize, cycles):\n",
    "    buff = [0]\n",
    "    pos = 0\n",
    "    for i in range(1, cycles+1):\n",
    "        buff, pos = jump(buff, pos, stepsize)\n",
    "        buff, pos = insert(buff, pos, i)\n",
    "    return buff, pos"
   ]
  },
  {
   "cell_type": "code",
   "execution_count": 3,
   "metadata": {},
   "outputs": [],
   "source": [
    "buff, pos = spinlock(3, 2017)"
   ]
  },
  {
   "cell_type": "code",
   "execution_count": 4,
   "metadata": {},
   "outputs": [],
   "source": [
    "assert([1512, 1134, 151, 2017, 638, 1513, 851] == buff[pos-3:pos+4])\n",
    "assert(638 == buff[pos+1])"
   ]
  },
  {
   "cell_type": "code",
   "execution_count": 5,
   "metadata": {},
   "outputs": [
    {
     "name": "stdout",
     "output_type": "stream",
     "text": [
      "[1876, 1437, 98, 2017, 419, 439, 355]\n",
      "419\n"
     ]
    }
   ],
   "source": [
    "puzzle_stepsize = 386\n",
    "buff, pos = spinlock(puzzle_stepsize, 2017)\n",
    "print(buff[pos-3:pos+4])\n",
    "print(buff[pos+1])"
   ]
  },
  {
   "cell_type": "markdown",
   "metadata": {},
   "source": [
    "### puzzle 2 ###"
   ]
  },
  {
   "cell_type": "code",
   "execution_count": 6,
   "metadata": {},
   "outputs": [
    {
     "name": "stdout",
     "output_type": "stream",
     "text": [
      "[0, 1]\n",
      "[0, 1, 2]\n",
      "[0, 1, 3, 2]\n",
      "[0, 4, 1, 3, 2]\n",
      "[0, 4, 1, 5, 3, 2]\n",
      "[0, 4, 1, 5, 3, 2, 6]\n",
      "[0, 7, 4, 1, 5, 3, 2, 6]\n",
      "[0, 7, 4, 1, 8, 5, 3, 2, 6]\n",
      "[0, 7, 4, 1, 9, 8, 5, 3, 2, 6]\n",
      "[0, 10, 7, 4, 1, 9, 8, 5, 3, 2, 6]\n",
      "[0, 10, 7, 11, 4, 1, 9, 8, 5, 3, 2, 6]\n",
      "[0, 10, 7, 11, 4, 1, 12, 9, 8, 5, 3, 2, 6]\n",
      "[0, 10, 7, 13, 11, 4, 1, 12, 9, 8, 5, 3, 2, 6]\n",
      "[0, 10, 7, 13, 11, 4, 1, 12, 9, 8, 5, 3, 14, 2, 6]\n",
      "[0, 10, 7, 13, 11, 4, 1, 12, 9, 15, 8, 5, 3, 14, 2, 6]\n",
      "[0, 10, 7, 13, 11, 4, 1, 12, 9, 15, 8, 5, 16, 3, 14, 2, 6]\n",
      "[0, 10, 7, 13, 11, 4, 1, 12, 17, 9, 15, 8, 5, 16, 3, 14, 2, 6]\n",
      "[0, 10, 7, 13, 11, 4, 1, 12, 17, 9, 15, 8, 5, 16, 3, 14, 2, 18, 6]\n",
      "[0, 10, 7, 13, 11, 19, 4, 1, 12, 17, 9, 15, 8, 5, 16, 3, 14, 2, 18, 6]\n"
     ]
    }
   ],
   "source": [
    "buff = [0]\n",
    "pos = 0\n",
    "for i in range(1, 20):\n",
    "    buff, pos = jump(buff, pos, puzzle_stepsize)\n",
    "    buff, pos = insert(buff, pos, i)\n",
    "    print(buff)"
   ]
  },
  {
   "cell_type": "markdown",
   "metadata": {},
   "source": [
    "Note that 0 is always at position 0, so just need to keep what is in position 1."
   ]
  },
  {
   "cell_type": "code",
   "execution_count": 7,
   "metadata": {},
   "outputs": [],
   "source": [
    "def jump2(buffsize, pos, steps):\n",
    "    newpos = (pos + steps) % buffsize\n",
    "    return buffsize, newpos\n",
    "def insert2(buff1, buffsize, pos, val):\n",
    "    newpos = pos + 1\n",
    "    if newpos == 1:\n",
    "        buff1 = val\n",
    "    return buff1, buffsize+1, newpos\n",
    "def spinlock2(stepsize, cycles):\n",
    "    buffsize = 1\n",
    "    buff1 = -1\n",
    "    pos = 0\n",
    "    for i in range(1, cycles+1):\n",
    "        buffsize, pos = jump2(buffsize, pos, stepsize)\n",
    "        buff1, buffsize, pos = insert2(buff1, buffsize, pos, i)\n",
    "    return buff1"
   ]
  },
  {
   "cell_type": "code",
   "execution_count": 8,
   "metadata": {},
   "outputs": [
    {
     "data": {
      "text/plain": [
       "10"
      ]
     },
     "execution_count": 8,
     "metadata": {},
     "output_type": "execute_result"
    }
   ],
   "source": [
    "spinlock2(puzzle_stepsize, 20)"
   ]
  },
  {
   "cell_type": "code",
   "execution_count": 9,
   "metadata": {},
   "outputs": [
    {
     "data": {
      "text/plain": [
       "46038988"
      ]
     },
     "execution_count": 9,
     "metadata": {},
     "output_type": "execute_result"
    }
   ],
   "source": [
    "spinlock2(puzzle_stepsize, 50000000)"
   ]
  },
  {
   "cell_type": "code",
   "execution_count": null,
   "metadata": {},
   "outputs": [],
   "source": []
  }
 ],
 "metadata": {
  "kernelspec": {
   "display_name": "py36",
   "language": "python",
   "name": "py36"
  },
  "language_info": {
   "codemirror_mode": {
    "name": "ipython",
    "version": 3
   },
   "file_extension": ".py",
   "mimetype": "text/x-python",
   "name": "python",
   "nbconvert_exporter": "python",
   "pygments_lexer": "ipython3",
   "version": "3.6.3"
  }
 },
 "nbformat": 4,
 "nbformat_minor": 2
}
