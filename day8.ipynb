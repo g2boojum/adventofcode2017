{
 "cells": [
  {
   "cell_type": "markdown",
   "metadata": {},
   "source": [
    "### puzzle 1 ###"
   ]
  },
  {
   "cell_type": "code",
   "execution_count": 1,
   "metadata": {},
   "outputs": [],
   "source": [
    "test_data = \"\"\"b inc 5 if a > 1\n",
    "a inc 1 if b < 5\n",
    "c dec -10 if a >= 1\n",
    "c inc -20 if c == 10\"\"\".split('\\n')"
   ]
  },
  {
   "cell_type": "code",
   "execution_count": 2,
   "metadata": {},
   "outputs": [],
   "source": [
    "def lt(a, b):\n",
    "    return a < b\n",
    "def le(a, b):\n",
    "    return a <= b\n",
    "def gt(a, b):\n",
    "    return a > b\n",
    "def ge(a, b):\n",
    "    return a >= b\n",
    "def eq(a, b):\n",
    "    return a == b\n",
    "def ne(a, b):\n",
    "    return a != b\n",
    "conds = {'<': lt,\n",
    "         '<=': le,\n",
    "         '>': gt,\n",
    "         '>=': ge,\n",
    "         '==': eq,\n",
    "         '!=': ne}\n",
    "def conditional(register, cond, num):\n",
    "    r = registers.get(register, 0)\n",
    "    return conds[cond](r, int(num))"
   ]
  },
  {
   "cell_type": "code",
   "execution_count": 3,
   "metadata": {},
   "outputs": [],
   "source": [
    "def process_line(line):\n",
    "    target, action, num1, iftoken, cond_reg, cond, num2 = line.split()\n",
    "    num1 = int(num1)\n",
    "    num2 = int(num2)\n",
    "    if target not in registers:\n",
    "        registers[target] = 0\n",
    "    if conditional(cond_reg, cond, num2):\n",
    "        if action == 'inc':\n",
    "            registers[target] += num1\n",
    "        elif action == 'dec':\n",
    "            registers[target] -= num1\n",
    "        else:\n",
    "            raise ValueError('action = \"{}\" not allowed'.format(action))\n",
    "    "
   ]
  },
  {
   "cell_type": "code",
   "execution_count": 4,
   "metadata": {},
   "outputs": [
    {
     "data": {
      "text/plain": [
       "{'a': 1, 'b': 0, 'c': -10}"
      ]
     },
     "execution_count": 4,
     "metadata": {},
     "output_type": "execute_result"
    }
   ],
   "source": [
    "registers = {}\n",
    "for line in test_data:\n",
    "    process_line(line)\n",
    "registers"
   ]
  },
  {
   "cell_type": "code",
   "execution_count": 5,
   "metadata": {},
   "outputs": [
    {
     "data": {
      "text/plain": [
       "{'bio': 2923,\n",
       " 'cy': 3598,\n",
       " 'd': 5752,\n",
       " 'g': -235,\n",
       " 'gij': -2640,\n",
       " 'hwk': -1427,\n",
       " 'ige': -3141,\n",
       " 'ip': 2230,\n",
       " 'keq': 2709,\n",
       " 'ljs': 5465,\n",
       " 'myk': -2014,\n",
       " 'n': -233,\n",
       " 'o': 3867,\n",
       " 'ow': -2750,\n",
       " 'pc': 1187,\n",
       " 'py': -882,\n",
       " 'qfz': -637,\n",
       " 'qpa': -3961,\n",
       " 's': 5434,\n",
       " 'scy': -4155,\n",
       " 'sd': 17,\n",
       " 'si': -5086,\n",
       " 'tcy': 1792,\n",
       " 'u': -61,\n",
       " 'vt': 434,\n",
       " 'yq': -706,\n",
       " 'zr': -2055}"
      ]
     },
     "execution_count": 5,
     "metadata": {},
     "output_type": "execute_result"
    }
   ],
   "source": [
    "registers = {}\n",
    "for line in open('day8_input').readlines():\n",
    "    process_line(line)\n",
    "registers"
   ]
  },
  {
   "cell_type": "code",
   "execution_count": 7,
   "metadata": {},
   "outputs": [
    {
     "data": {
      "text/plain": [
       "5752"
      ]
     },
     "execution_count": 7,
     "metadata": {},
     "output_type": "execute_result"
    }
   ],
   "source": [
    "max([registers[r] for r in registers])"
   ]
  },
  {
   "cell_type": "markdown",
   "metadata": {},
   "source": [
    "### puzzle 2 ###"
   ]
  },
  {
   "cell_type": "code",
   "execution_count": 18,
   "metadata": {},
   "outputs": [],
   "source": [
    "def process_line2(line, maxreg):\n",
    "    target, action, num1, iftoken, cond_reg, cond, num2 = line.split()\n",
    "    num1 = int(num1)\n",
    "    num2 = int(num2)\n",
    "    if target not in registers:\n",
    "        registers[target] = 0\n",
    "    if conditional(cond_reg, cond, num2):\n",
    "        if action == 'inc':\n",
    "            registers[target] += num1\n",
    "        elif action == 'dec':\n",
    "            registers[target] -= num1\n",
    "        else:\n",
    "            raise ValueError('action = \"{}\" not allowed'.format(action))\n",
    "    if registers[target] > maxreg:\n",
    "        maxreg = registers[target]\n",
    "    return maxreg"
   ]
  },
  {
   "cell_type": "code",
   "execution_count": 20,
   "metadata": {},
   "outputs": [
    {
     "data": {
      "text/plain": [
       "6366"
      ]
     },
     "execution_count": 20,
     "metadata": {},
     "output_type": "execute_result"
    }
   ],
   "source": [
    "registers = {}\n",
    "maxreg = 0\n",
    "for line in open('day8_input').readlines():\n",
    "    maxreg = process_line2(line, maxreg)\n",
    "maxreg"
   ]
  },
  {
   "cell_type": "code",
   "execution_count": null,
   "metadata": {},
   "outputs": [],
   "source": []
  }
 ],
 "metadata": {
  "kernelspec": {
   "display_name": "py36",
   "language": "python",
   "name": "py36"
  },
  "language_info": {
   "codemirror_mode": {
    "name": "ipython",
    "version": 3
   },
   "file_extension": ".py",
   "mimetype": "text/x-python",
   "name": "python",
   "nbconvert_exporter": "python",
   "pygments_lexer": "ipython3",
   "version": "3.6.3"
  }
 },
 "nbformat": 4,
 "nbformat_minor": 2
}
