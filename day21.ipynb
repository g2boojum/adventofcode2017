{
 "cells": [
  {
   "cell_type": "markdown",
   "metadata": {},
   "source": [
    "### puzzle 1 ###"
   ]
  },
  {
   "cell_type": "code",
   "execution_count": 1,
   "metadata": {},
   "outputs": [],
   "source": [
    "import numpy as np"
   ]
  },
  {
   "cell_type": "code",
   "execution_count": 2,
   "metadata": {},
   "outputs": [],
   "source": [
    "start_pattern = '.#./..#/###'\n",
    "test_rules = '''../.# => ##./#../...\n",
    ".#./..#/### => #..#/..../..../#..#'''.split('\\n')"
   ]
  },
  {
   "cell_type": "code",
   "execution_count": 3,
   "metadata": {},
   "outputs": [
    {
     "data": {
      "text/plain": [
       "['../.# => ##./#../...', '.#./..#/### => #..#/..../..../#..#']"
      ]
     },
     "execution_count": 3,
     "metadata": {},
     "output_type": "execute_result"
    }
   ],
   "source": [
    "test_rules"
   ]
  },
  {
   "cell_type": "code",
   "execution_count": 4,
   "metadata": {},
   "outputs": [],
   "source": [
    "def pattern_to_matrix(pattern):\n",
    "    pt = pattern.split('/')\n",
    "    nrows = len(pt)\n",
    "    ncols = len(pt[0])\n",
    "    arr = np.zeros((nrows, ncols))\n",
    "    for i,row in enumerate(pt):\n",
    "        for j,c in enumerate(row):\n",
    "            if c == '.':\n",
    "                arr[i][j] = 0\n",
    "            elif c == '#':\n",
    "                arr[i][j] = 1\n",
    "            else:\n",
    "                raise ValueError('Unexpected character: {}'.format(c))\n",
    "    return arr"
   ]
  },
  {
   "cell_type": "code",
   "execution_count": 5,
   "metadata": {},
   "outputs": [],
   "source": [
    "def process_rules(rules):\n",
    "    rulebook = []\n",
    "    for rule in rules:\n",
    "        lhs, arrow, rhs = rule.partition('=>')\n",
    "        lhs_arr = pattern_to_matrix(lhs.strip())\n",
    "        rhs_arr = pattern_to_matrix(rhs.strip())\n",
    "        rulebook.append((lhs_arr, rhs_arr))\n",
    "    return rulebook"
   ]
  },
  {
   "cell_type": "code",
   "execution_count": 6,
   "metadata": {},
   "outputs": [],
   "source": [
    "test_rulebook = process_rules(test_rules)"
   ]
  },
  {
   "cell_type": "code",
   "execution_count": 7,
   "metadata": {},
   "outputs": [],
   "source": [
    "def is_match(a, b):\n",
    "    if len(a) != len(b):\n",
    "        return False\n",
    "    for n in range(4):\n",
    "        rotb = np.rot90(b, n)\n",
    "        if np.array_equal(a, rotb):\n",
    "            return True\n",
    "        if np.array_equal(a, np.fliplr(rotb)):\n",
    "            return True\n",
    "    return False\n",
    "assert(is_match(pattern_to_matrix(start_pattern), pattern_to_matrix('###/..#/.#.')))"
   ]
  },
  {
   "cell_type": "code",
   "execution_count": 8,
   "metadata": {},
   "outputs": [],
   "source": [
    "def find_replacement(rulebook, item):\n",
    "    for lhs,rhs in rulebook:\n",
    "        if is_match(item, lhs):\n",
    "            return rhs\n",
    "    raise ValueError('No rule matches?!')        "
   ]
  },
  {
   "cell_type": "code",
   "execution_count": 9,
   "metadata": {},
   "outputs": [],
   "source": [
    "def enhance(grid, rulebook):\n",
    "    size = len(grid)\n",
    "    if size % 2 == 0:\n",
    "        blk_size = 2\n",
    "        new_blk_size = 3\n",
    "    elif size % 3 == 0:\n",
    "        blk_size = 3\n",
    "        new_blk_size = 4\n",
    "    else:\n",
    "        raise ValueError('Nonsensical grid size: {}'.format(size))\n",
    "    num_blocks = len(grid)//blk_size\n",
    "    # new grid is num_blocks × num_blocks, where each block is new_blk_size×new_blk_size\n",
    "    newgrid = np.zeros((new_blk_size*num_blocks,new_blk_size*num_blocks))\n",
    "    for iblk in range(num_blocks):\n",
    "        for jblk in range(num_blocks):\n",
    "            curr_block = grid[iblk*blk_size:(iblk+1)*blk_size,jblk*blk_size:(jblk+1)*blk_size]\n",
    "            newgrid[iblk*new_blk_size:(iblk+1)*new_blk_size,\n",
    "                    jblk*new_blk_size:(jblk+1)*new_blk_size] = find_replacement(rulebook, curr_block)\n",
    "    return newgrid    "
   ]
  },
  {
   "cell_type": "code",
   "execution_count": 10,
   "metadata": {},
   "outputs": [],
   "source": [
    "grid = pattern_to_matrix(start_pattern)\n",
    "for i in range(2):\n",
    "    grid = enhance(grid, test_rulebook)\n",
    "assert(12 == grid.sum())"
   ]
  },
  {
   "cell_type": "code",
   "execution_count": 11,
   "metadata": {},
   "outputs": [],
   "source": [
    "puzzle_rules = open('day21_input').read().split('\\n')[:-1]\n",
    "puzzle_rulebook = process_rules(puzzle_rules)\n",
    "puzzle_iterations = 5"
   ]
  },
  {
   "cell_type": "code",
   "execution_count": 12,
   "metadata": {},
   "outputs": [
    {
     "data": {
      "text/plain": [
       "150.0"
      ]
     },
     "execution_count": 12,
     "metadata": {},
     "output_type": "execute_result"
    }
   ],
   "source": [
    "grid = pattern_to_matrix(start_pattern)\n",
    "for i in range(puzzle_iterations):\n",
    "    grid = enhance(grid, puzzle_rulebook)\n",
    "grid.sum()"
   ]
  },
  {
   "cell_type": "markdown",
   "metadata": {},
   "source": [
    "### puzzle 2 ###"
   ]
  },
  {
   "cell_type": "code",
   "execution_count": 13,
   "metadata": {},
   "outputs": [],
   "source": [
    "puzzle_iterations2 = 18"
   ]
  },
  {
   "cell_type": "markdown",
   "metadata": {},
   "source": [
    "Too many iterations for my current version. Let's see what happens if I have a hashable rulebook."
   ]
  },
  {
   "cell_type": "code",
   "execution_count": 14,
   "metadata": {},
   "outputs": [],
   "source": [
    "def process_rules2(rules):\n",
    "    rulebook = {}\n",
    "    for rule in rules:\n",
    "        lhs, arrow, rhs = rule.partition('=>')\n",
    "        lhs_arr = pattern_to_matrix(lhs.strip())\n",
    "        rhs_arr = pattern_to_matrix(rhs.strip())\n",
    "        for n in range(4):\n",
    "            rotb = np.rot90(lhs_arr, n)\n",
    "            rot_flip = np.fliplr(rotb)\n",
    "            rulebook[tuple(rotb.flatten())] = rhs_arr\n",
    "            rulebook[tuple(rot_flip.flatten())] = rhs_arr\n",
    "    return rulebook"
   ]
  },
  {
   "cell_type": "code",
   "execution_count": 15,
   "metadata": {},
   "outputs": [],
   "source": [
    "puzzle_rulebook_dict = process_rules2(puzzle_rules)"
   ]
  },
  {
   "cell_type": "code",
   "execution_count": 16,
   "metadata": {},
   "outputs": [],
   "source": [
    "def enhance2(grid, rulebook):\n",
    "    size = len(grid)\n",
    "    if size % 2 == 0:\n",
    "        blk_size = 2\n",
    "        new_blk_size = 3\n",
    "    elif size % 3 == 0:\n",
    "        blk_size = 3\n",
    "        new_blk_size = 4\n",
    "    else:\n",
    "        raise ValueError('Nonsensical grid size: {}'.format(size))\n",
    "    num_blocks = len(grid)//blk_size\n",
    "    # new grid is num_blocks × num_blocks, where each block is new_blk_size×new_blk_size\n",
    "    newgrid = np.zeros((new_blk_size*num_blocks,new_blk_size*num_blocks))\n",
    "    for iblk in range(num_blocks):\n",
    "        for jblk in range(num_blocks):\n",
    "            curr_block = grid[iblk*blk_size:(iblk+1)*blk_size,jblk*blk_size:(jblk+1)*blk_size]\n",
    "            curr_hash = tuple(curr_block.flatten())\n",
    "            newgrid[iblk*new_blk_size:(iblk+1)*new_blk_size,\n",
    "                    jblk*new_blk_size:(jblk+1)*new_blk_size] = rulebook[curr_hash]\n",
    "    return newgrid    "
   ]
  },
  {
   "cell_type": "code",
   "execution_count": 17,
   "metadata": {},
   "outputs": [
    {
     "name": "stdout",
     "output_type": "stream",
     "text": [
      "0 4\n",
      "1 6\n",
      "2 9\n",
      "3 12\n",
      "4 18\n",
      "5 27\n",
      "6 36\n",
      "7 54\n",
      "8 81\n",
      "9 108\n",
      "10 162\n",
      "11 243\n",
      "12 324\n",
      "13 486\n",
      "14 729\n",
      "15 972\n",
      "16 1458\n",
      "17 2187\n"
     ]
    },
    {
     "data": {
      "text/plain": [
       "2606275.0"
      ]
     },
     "execution_count": 17,
     "metadata": {},
     "output_type": "execute_result"
    }
   ],
   "source": [
    "grid = pattern_to_matrix(start_pattern)\n",
    "for i in range(puzzle_iterations2):\n",
    "    grid = enhance2(grid, puzzle_rulebook_dict)\n",
    "    print(i, len(grid))\n",
    "grid.sum()"
   ]
  },
  {
   "cell_type": "code",
   "execution_count": null,
   "metadata": {},
   "outputs": [],
   "source": []
  }
 ],
 "metadata": {
  "kernelspec": {
   "display_name": "py36",
   "language": "python",
   "name": "py36"
  },
  "language_info": {
   "codemirror_mode": {
    "name": "ipython",
    "version": 3
   },
   "file_extension": ".py",
   "mimetype": "text/x-python",
   "name": "python",
   "nbconvert_exporter": "python",
   "pygments_lexer": "ipython3",
   "version": "3.6.3"
  }
 },
 "nbformat": 4,
 "nbformat_minor": 2
}
