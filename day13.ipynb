{
 "cells": [
  {
   "cell_type": "markdown",
   "metadata": {},
   "source": [
    "### puzzle 1 ###"
   ]
  },
  {
   "cell_type": "markdown",
   "metadata": {},
   "source": [
    "A \"scanner\" sweeps back and forth at a constant speed. So, if there are four locations that get checked:\n",
    "\n",
    "```\n",
    "  t = 0     t = 1         t = 3      t = 4\n",
    " ☒ ☐ ☐ ☐   ☐ ☒ ☐ ☐  ...  ☐ ☐ ☐ ☒    ☐ ☐ ☒ ☐\n",
    " 0 1 2 3   0 1 2 3       0 1 2 3    0 1 2 3\n",
    "```\n",
    " \n",
    "So, the scanner position as a function of time (t) and size of sweep (n) can be computed with a little math:\n",
    "\n",
    "\\begin{equation}\n",
    "t_\\text{mod} \\equiv t \\, \\%\\, (2n - 2),\n",
    "\\end{equation}\n",
    "\n",
    "\\begin{equation}\n",
    "x(t) = \\begin{cases}\n",
    "         t_\\text{mod}, & t_\\text{mod} < n \\\\\n",
    "         (2n-2) - t_\\text{mod}, & t_\\text{mod} \\ge n\n",
    "       \\end{cases}\n",
    "\\end{equation}\n",
    "\n",
    "Note that in the degenerate case of only a single \"box\", the position is always 0."
   ]
  },
  {
   "cell_type": "code",
   "execution_count": 1,
   "metadata": {},
   "outputs": [],
   "source": [
    "def scanner_pos(n, t):\n",
    "    if n == 0:\n",
    "        raise ValueError('Size must be > 1')\n",
    "    elif n == 1:\n",
    "        return 0\n",
    "    else:\n",
    "        tmod = t % (2*n - 2)\n",
    "        if tmod < n:\n",
    "            return tmod\n",
    "        return 2*n - 2 - tmod"
   ]
  },
  {
   "cell_type": "markdown",
   "metadata": {},
   "source": [
    "For this puzzle, the packet is in layer $t$ at time $t$, always in box 0:"
   ]
  },
  {
   "cell_type": "code",
   "execution_count": 2,
   "metadata": {},
   "outputs": [],
   "source": [
    "def packet_pos(t, delay=0):\n",
    "    return t-delay, 0"
   ]
  },
  {
   "cell_type": "code",
   "execution_count": 3,
   "metadata": {},
   "outputs": [
    {
     "name": "stdout",
     "output_type": "stream",
     "text": [
      "0 0\n",
      "1 1\n",
      "2 2\n",
      "3 3\n",
      "4 2\n",
      "5 1\n",
      "6 0\n",
      "7 1\n",
      "8 2\n",
      "9 3\n"
     ]
    }
   ],
   "source": [
    "for t in range(10):\n",
    "    print(t, scanner_pos(4, t))"
   ]
  },
  {
   "cell_type": "markdown",
   "metadata": {},
   "source": [
    "The firewall comprises layers of scanners (each layer has 0 or 1 scanner). The packet starts at layer 0 and traverses the firewall one layer at a time, always in the first \"box\". The unit of time is how long it takes the packet to traverse a single layer, and also the amount of time that the scanner in a layer moves from one box to the next. If the scanner position for the layer that the packet is in happens to match the box that the packet is in, then there has been a scanner/packet collision. For whatever reason, the severity of the collision is computed as the layer number multiplied by the number of boxes that the scanner is scanning for that layer."
   ]
  },
  {
   "cell_type": "code",
   "execution_count": 4,
   "metadata": {},
   "outputs": [],
   "source": [
    "def calc_collision_severity(scanners, delay=0):\n",
    "    severity_sum = 0\n",
    "    max_layer = max(scanners.keys())\n",
    "    # traverse 1 layer in unit time\n",
    "    for t in range(max_layer + 1 + delay):\n",
    "        layer, packet_box = packet_pos(t, delay)\n",
    "        if layer not in scanners:\n",
    "            continue\n",
    "        num_boxes = scanners[layer]\n",
    "        scanner_box = scanner_pos(num_boxes, t)\n",
    "        if packet_box == scanner_box:\n",
    "            severity = layer*num_boxes\n",
    "            severity_sum += severity\n",
    "    return severity_sum"
   ]
  },
  {
   "cell_type": "code",
   "execution_count": 5,
   "metadata": {},
   "outputs": [],
   "source": [
    "test_scanners = {0: 3, 1: 2, 4: 4, 6: 4}\n",
    "assert(24 == calc_collision_severity(test_scanners))"
   ]
  },
  {
   "cell_type": "code",
   "execution_count": 6,
   "metadata": {},
   "outputs": [],
   "source": [
    "puzzle_lines = open('day13_input').readlines()\n",
    "puzzle_scanners = {}\n",
    "for line in puzzle_lines:\n",
    "    lhs, colon, rhs = line.partition(':')\n",
    "    puzzle_scanners[int(lhs)] = int(rhs)"
   ]
  },
  {
   "cell_type": "code",
   "execution_count": 7,
   "metadata": {},
   "outputs": [
    {
     "data": {
      "text/plain": [
       "2688"
      ]
     },
     "execution_count": 7,
     "metadata": {},
     "output_type": "execute_result"
    }
   ],
   "source": [
    "calc_collision_severity(puzzle_scanners)"
   ]
  },
  {
   "cell_type": "markdown",
   "metadata": {},
   "source": [
    "### puzzle 2 ###"
   ]
  },
  {
   "cell_type": "markdown",
   "metadata": {},
   "source": [
    "Add in a delay before the packet enters the firewall, and look for a delay that leads to no collisions. Unfortunately, the simple method I used in part 1 is way too slow.\n",
    "\n",
    "Time to encounter layer $i$: $i + d$, where $d$ is the delay.\n",
    "\n",
    "Iterate over each layer and see if the scanner box at that time is ```packet_box``` (which is always 0)."
   ]
  },
  {
   "cell_type": "code",
   "execution_count": 8,
   "metadata": {},
   "outputs": [],
   "source": [
    "packet_box = 0\n",
    "def is_collision(scanners, delay=0):\n",
    "    for layer, boxes in scanners.items():\n",
    "        t = layer + delay\n",
    "        if packet_box == scanner_pos(boxes, t):\n",
    "            return True\n",
    "    return False\n",
    "        "
   ]
  },
  {
   "cell_type": "code",
   "execution_count": 9,
   "metadata": {},
   "outputs": [],
   "source": [
    "def find_delay_without_collisions(scanners):\n",
    "    delay = 0\n",
    "    while True:\n",
    "        if not is_collision(scanners, delay):\n",
    "            return delay\n",
    "        delay += 1"
   ]
  },
  {
   "cell_type": "code",
   "execution_count": 10,
   "metadata": {},
   "outputs": [],
   "source": [
    "assert(10 == find_delay_without_collisions(test_scanners))"
   ]
  },
  {
   "cell_type": "code",
   "execution_count": 11,
   "metadata": {},
   "outputs": [
    {
     "data": {
      "text/plain": [
       "3876272"
      ]
     },
     "execution_count": 11,
     "metadata": {},
     "output_type": "execute_result"
    }
   ],
   "source": [
    "find_delay_without_collisions(puzzle_scanners)"
   ]
  },
  {
   "cell_type": "code",
   "execution_count": null,
   "metadata": {},
   "outputs": [],
   "source": []
  }
 ],
 "metadata": {
  "kernelspec": {
   "display_name": "py36",
   "language": "python",
   "name": "py36"
  },
  "language_info": {
   "codemirror_mode": {
    "name": "ipython",
    "version": 3
   },
   "file_extension": ".py",
   "mimetype": "text/x-python",
   "name": "python",
   "nbconvert_exporter": "python",
   "pygments_lexer": "ipython3",
   "version": "3.6.3"
  }
 },
 "nbformat": 4,
 "nbformat_minor": 2
}
