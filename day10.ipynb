{
 "cells": [
  {
   "cell_type": "markdown",
   "metadata": {},
   "source": [
    "### puzzle 1 ###"
   ]
  },
  {
   "cell_type": "code",
   "execution_count": 1,
   "metadata": {},
   "outputs": [],
   "source": [
    "day10_input = (31,2,85,1,80,109,35,63,98,255,0,13,105,254,128,33)"
   ]
  },
  {
   "cell_type": "code",
   "execution_count": 2,
   "metadata": {},
   "outputs": [],
   "source": [
    "def circular_subset(lst, start, length):\n",
    "    subset = []\n",
    "    for i in range(length):\n",
    "        circ_pos = (start + i) % len(lst)\n",
    "        subset.append(lst[circ_pos])\n",
    "    return subset\n",
    "def circular_fill_reversed(lst, start, subset):\n",
    "    for i, val in enumerate(reversed(subset)):\n",
    "        circ_pos = (start + i) % len(lst)\n",
    "        lst[circ_pos] = val"
   ]
  },
  {
   "cell_type": "code",
   "execution_count": 3,
   "metadata": {},
   "outputs": [],
   "source": [
    "def twist(size, lengths):\n",
    "    lst = list(range(size))\n",
    "    pos = 0\n",
    "    skip = 0\n",
    "    for length in lengths:\n",
    "        subset = circular_subset(lst, pos, length)\n",
    "        circular_fill_reversed(lst, pos, subset)\n",
    "        pos = (pos + length + skip) % len(lst)\n",
    "        skip += 1\n",
    "    return lst, pos, skip"
   ]
  },
  {
   "cell_type": "code",
   "execution_count": 4,
   "metadata": {},
   "outputs": [
    {
     "name": "stdout",
     "output_type": "stream",
     "text": [
      "[3, 4, 2, 1, 0] 4 4\n"
     ]
    }
   ],
   "source": [
    "lst, pos, skip = twist(5, (3, 4, 1, 5))\n",
    "print(lst, pos, skip)\n",
    "assert(12 == lst[0]*lst[1])"
   ]
  },
  {
   "cell_type": "code",
   "execution_count": 5,
   "metadata": {},
   "outputs": [
    {
     "name": "stdout",
     "output_type": "stream",
     "text": [
      "6952\n"
     ]
    }
   ],
   "source": [
    "lst, pos, skip = twist(256, day10_input)\n",
    "print(lst[0]*lst[1])"
   ]
  },
  {
   "cell_type": "markdown",
   "metadata": {},
   "source": [
    "### puzzle 2 ###"
   ]
  },
  {
   "cell_type": "code",
   "execution_count": 6,
   "metadata": {},
   "outputs": [],
   "source": [
    "assert([49, 44, 50, 44, 51] == [ord(c) for c in '1,2,3'])"
   ]
  },
  {
   "cell_type": "code",
   "execution_count": 7,
   "metadata": {},
   "outputs": [],
   "source": [
    "day10_input_string = \"31,2,85,1,80,109,35,63,98,255,0,13,105,254,128,33\"\n",
    "input_ascii = [ord(c) for c in day10_input_string]\n",
    "input_ascii.extend([17, 31, 73, 47, 23])"
   ]
  },
  {
   "cell_type": "code",
   "execution_count": 8,
   "metadata": {},
   "outputs": [],
   "source": [
    "lst = list(range(256))\n",
    "def twist2(lengths):\n",
    "    pos = 0\n",
    "    skip = 0\n",
    "    for i in range(64):\n",
    "        for length in lengths:\n",
    "            subset = circular_subset(lst, pos, length)\n",
    "            circular_fill_reversed(lst, pos, subset)\n",
    "            pos = (pos + length + skip) % len(lst)\n",
    "            skip += 1\n",
    "    return lst, pos, skip\n",
    "lst, pos, skip = twist2(input_ascii)"
   ]
  },
  {
   "cell_type": "code",
   "execution_count": 9,
   "metadata": {},
   "outputs": [],
   "source": [
    "nums = [65, 27, 9, 1, 4, 3, 40, 50, 91, 7, 6, 0, 2, 5, 68, 22]\n",
    "block = nums[0:16]\n",
    "val = block[0]\n",
    "for x in block[1:]:\n",
    "    val ^= x\n",
    "assert(64 == val)"
   ]
  },
  {
   "cell_type": "code",
   "execution_count": 10,
   "metadata": {},
   "outputs": [
    {
     "data": {
      "text/plain": [
       "'28e7c4360520718a5dc811d3942cf1fd'"
      ]
     },
     "execution_count": 10,
     "metadata": {},
     "output_type": "execute_result"
    }
   ],
   "source": [
    "hash = []\n",
    "for i in range(16):\n",
    "    block = lst[16*i:16*(i+1)]\n",
    "    val = block[0]\n",
    "    for x in block[1:]:\n",
    "        val ^= x\n",
    "    hash.append(val)\n",
    "''.join(['{0:02x}'.format(a) for a in hash])"
   ]
  },
  {
   "cell_type": "code",
   "execution_count": 11,
   "metadata": {},
   "outputs": [],
   "source": [
    "def knot_hash(s):\n",
    "    input_ascii = [ord(c) for c in s]\n",
    "    input_ascii.extend([17, 31, 73, 47, 23])\n",
    "    lst = list(range(256))\n",
    "    pos = 0\n",
    "    skip = 0\n",
    "    for i in range(64):\n",
    "        for length in input_ascii:\n",
    "            subset = circular_subset(lst, pos, length)\n",
    "            circular_fill_reversed(lst, pos, subset)\n",
    "            pos = (pos + length + skip) % len(lst)\n",
    "            skip += 1\n",
    "    khash = []\n",
    "    for i in range(16):\n",
    "        block = lst[16*i:16*(i+1)]\n",
    "        val = block[0]\n",
    "        for x in block[1:]:\n",
    "            val ^= x\n",
    "        khash.append(val)\n",
    "    return(''.join(['{0:02x}'.format(a) for a in khash]))\n",
    "    "
   ]
  },
  {
   "cell_type": "code",
   "execution_count": 12,
   "metadata": {},
   "outputs": [
    {
     "data": {
      "text/plain": [
       "'28e7c4360520718a5dc811d3942cf1fd'"
      ]
     },
     "execution_count": 12,
     "metadata": {},
     "output_type": "execute_result"
    }
   ],
   "source": [
    "knot_hash(day10_input_string)"
   ]
  }
 ],
 "metadata": {
  "kernelspec": {
   "display_name": "py36",
   "language": "python",
   "name": "py36"
  },
  "language_info": {
   "codemirror_mode": {
    "name": "ipython",
    "version": 3
   },
   "file_extension": ".py",
   "mimetype": "text/x-python",
   "name": "python",
   "nbconvert_exporter": "python",
   "pygments_lexer": "ipython3",
   "version": "3.6.3"
  }
 },
 "nbformat": 4,
 "nbformat_minor": 2
}
