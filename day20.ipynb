{
 "cells": [
  {
   "cell_type": "code",
   "execution_count": 1,
   "metadata": {},
   "outputs": [],
   "source": [
    "%matplotlib inline\n",
    "import numpy as np\n",
    "import re\n",
    "import matplotlib.pyplot as plt\n",
    "import itertools"
   ]
  },
  {
   "cell_type": "markdown",
   "metadata": {},
   "source": [
    "### puzzle 1 ###"
   ]
  },
  {
   "cell_type": "markdown",
   "metadata": {},
   "source": [
    "Each particle feels a constant acceleration. Effectively, it's a multi-particle space simulation where each particle has thrust, but nothing can turn (and no mass is lost).\n",
    "\n",
    "Note that the equation of motion is not the familiar continuous-time\n",
    "\n",
    "$$\n",
    "\\vec{r}(t) = \\vec{r}_0 + \\vec{v}_0 \\cdot t + \\frac{1}{2} \\vec{a}_0 \\cdot t^2,\n",
    "$$\n",
    "but instead\n",
    "$$\n",
    "\\vec{r}_j = \\vec{r}_0 + \\vec{v}_0 \\cdot j + \\frac{j(j-1)}{2} \\vec{a}_0 ,\n",
    "$$\n",
    "where $j \\equiv t/\\delta t$."
   ]
  },
  {
   "cell_type": "code",
   "execution_count": 2,
   "metadata": {},
   "outputs": [],
   "source": [
    "class Particle(object):\n",
    "    def __init__(self, r0, v0, a0):\n",
    "        self.r0 = r0\n",
    "        self.v0 = v0\n",
    "        self.a0 = a0\n",
    "        self.r = r0\n",
    "        self.v = v0\n",
    "        self.t = 0\n",
    "    def step(self):\n",
    "        self.v += self.a0\n",
    "        self.r += self.v\n",
    "        self.t += 1\n",
    "    def dist(self, j):\n",
    "        # taxicab distance from origin\n",
    "        return sum(abs(ri) for ri in self.pos(j))\n",
    "    def pos(self, j):\n",
    "        return self.r0 + j*self.v0 + (j*(j-1)/2)*self.a0\n",
    "    def ataxi(self):\n",
    "        return sum(abs(ai) for ai in self.a0)"
   ]
  },
  {
   "cell_type": "code",
   "execution_count": 3,
   "metadata": {},
   "outputs": [],
   "source": [
    "test_input = '''p=< 3,0,0>, v=< 2,0,0>, a=<-1,0,0>\n",
    "p=< 4,0,0>, v=< 0,0,0>, a=<-2,0,0>'''.split('\\n')"
   ]
  },
  {
   "cell_type": "code",
   "execution_count": 4,
   "metadata": {},
   "outputs": [
    {
     "data": {
      "text/plain": [
       "['p=< 3,0,0>, v=< 2,0,0>, a=<-1,0,0>', 'p=< 4,0,0>, v=< 0,0,0>, a=<-2,0,0>']"
      ]
     },
     "execution_count": 4,
     "metadata": {},
     "output_type": "execute_result"
    }
   ],
   "source": [
    "test_input"
   ]
  },
  {
   "cell_type": "code",
   "execution_count": 5,
   "metadata": {},
   "outputs": [],
   "source": [
    "regex = re.compile(r'<[- \\d,]+>')\n",
    "def construct_particles(data):\n",
    "    particles = []\n",
    "    for line in data:\n",
    "        pstr, vstr, astr = regex.findall(line)\n",
    "        rx, ry, rz = pstr[1:-1].split(',')\n",
    "        r = np.array([int(rx), int(ry), int(rz)])\n",
    "        vx, vy, vz = vstr[1:-1].split(',')\n",
    "        v = np.array([int(vx), int(vy), int(vz)])\n",
    "        ax, ay, az = astr[1:-1].split(',')\n",
    "        a = np.array([int(ax), int(ay), int(az)])\n",
    "        particles.append(Particle(r, v, a))  \n",
    "    return particles"
   ]
  },
  {
   "cell_type": "code",
   "execution_count": 6,
   "metadata": {},
   "outputs": [],
   "source": [
    "particles = construct_particles(test_input)"
   ]
  },
  {
   "cell_type": "markdown",
   "metadata": {},
   "source": [
    "Closest particle will be the particle with the smallest taxicab accel"
   ]
  },
  {
   "cell_type": "code",
   "execution_count": 7,
   "metadata": {},
   "outputs": [
    {
     "name": "stdout",
     "output_type": "stream",
     "text": [
      "[1 2]\n",
      "0\n"
     ]
    }
   ],
   "source": [
    "accels = np.array([p.ataxi() for p in particles])\n",
    "print(accels)\n",
    "print(accels.argmin())"
   ]
  },
  {
   "cell_type": "code",
   "execution_count": 8,
   "metadata": {},
   "outputs": [],
   "source": [
    "puzzle_input = open('day20_input').read().split('\\n')[:-1]\n",
    "puzzle_particles = construct_particles(puzzle_input)\n",
    "puzzle_accels = np.array([p.ataxi() for p in puzzle_particles])"
   ]
  },
  {
   "cell_type": "code",
   "execution_count": 9,
   "metadata": {},
   "outputs": [
    {
     "data": {
      "text/plain": [
       "2"
      ]
     },
     "execution_count": 9,
     "metadata": {},
     "output_type": "execute_result"
    }
   ],
   "source": [
    "puzzle_accels.min()"
   ]
  },
  {
   "cell_type": "code",
   "execution_count": 10,
   "metadata": {},
   "outputs": [
    {
     "data": {
      "text/plain": [
       "[47, 161, 464]"
      ]
     },
     "execution_count": 10,
     "metadata": {},
     "output_type": "execute_result"
    }
   ],
   "source": [
    "wimpiest = [i for i, ataxi in enumerate(puzzle_accels) if ataxi == 2.0]\n",
    "wimpiest"
   ]
  },
  {
   "cell_type": "markdown",
   "metadata": {},
   "source": [
    "Three particles have the lowest acceleration. Which one moves away the slowest depends on the actual trajectory. Simplest to just plot each particle as a function of time."
   ]
  },
  {
   "cell_type": "code",
   "execution_count": 11,
   "metadata": {},
   "outputs": [
    {
     "data": {
      "text/plain": [
       "<matplotlib.legend.Legend at 0x150ca1c33d30>"
      ]
     },
     "execution_count": 11,
     "metadata": {},
     "output_type": "execute_result"
    },
    {
     "data": {
      "image/png": "[encoded data removed]",
      "text/plain": [
       "<matplotlib.figure.Figure at 0x150ca3c51fd0>"
      ]
     },
     "metadata": {},
     "output_type": "display_data"
    }
   ],
   "source": [
    "times = list(range(100))\n",
    "d47 = [puzzle_particles[47].dist(j) for j in times]\n",
    "d161 = [puzzle_particles[161].dist(j) for j in times]\n",
    "d464 = [puzzle_particles[464].dist(j) for j in times]\n",
    "plt.plot(times, d47, '-', label='47')\n",
    "plt.plot(times, d161, '-', label='161')\n",
    "plt.plot(times, d464, '-', label='464')\n",
    "plt.xlabel('$t/\\delta t$')\n",
    "plt.ylabel('distance from the origin')\n",
    "plt.legend()"
   ]
  },
  {
   "cell_type": "markdown",
   "metadata": {},
   "source": [
    "### puzzle 2 ###\n",
    "\n",
    "If two particles collide, they are both destroyed. How many particles survive?\n",
    "\n",
    "Note that the collision time can be computed as the root of a quadratic (set of) equation(s):\n",
    "\n",
    "$$\n",
    "\\left(\\vec{r}_{\\alpha,0} - \\vec{r}_{\\beta,0}\\right) + \\left[(\\vec{v}_{\\alpha,0} - \\vec{v}_{\\beta,0}) - \\frac{1}{2}(\\vec{a}_{\\alpha,0} - \\vec{a}_{\\beta,0})\\right] \\cdot j + \\frac{1}{2}\\left(\\vec{a}_{\\alpha,0} - \\vec{a}_{\\beta,0}\\right)\\cdot j^2 = 0\n",
    "$$"
   ]
  },
  {
   "cell_type": "code",
   "execution_count": 12,
   "metadata": {},
   "outputs": [],
   "source": [
    "test_data = '''p=<-6,0,0>, v=< 3,0,0>, a=< 0,0,0>    \n",
    "p=<-4,0,0>, v=< 2,0,0>, a=< 0,0,0>\n",
    "p=<-2,0,0>, v=< 1,0,0>, a=< 0,0,0>\n",
    "p=< 3,0,0>, v=<-1,0,0>, a=< 0,0,0>'''.split('\\n')\n",
    "test_particles = construct_particles(test_data)"
   ]
  },
  {
   "cell_type": "code",
   "execution_count": 13,
   "metadata": {},
   "outputs": [],
   "source": [
    "def does_collide(i,j, particles):\n",
    "    pi = particles[i]\n",
    "    pj = particles[j]\n",
    "    delr = pi.r0 - pj.r0\n",
    "    delv = pi.v0 - pj.v0\n",
    "    dela = pi.a0 - pj.a0\n",
    "    for mu in 0,1,2:\n",
    "        roots = np.roots([0.5*dela[mu], delv[mu]-0.5*dela[mu], delr[mu]])\n",
    "        for root in roots:\n",
    "            if np.isreal(root):\n",
    "                if root >= 0:\n",
    "                    if root == int(root):\n",
    "                        print(i, j, mu, root)\n",
    "                        if all(pi.pos(root) == pj.pos(root)):\n",
    "                            return True\n",
    "    return False"
   ]
  },
  {
   "cell_type": "code",
   "execution_count": 14,
   "metadata": {},
   "outputs": [
    {
     "name": "stdout",
     "output_type": "stream",
     "text": [
      "0 1 0 2.0\n",
      "0 2 0 2.0\n",
      "1 2 0 2.0\n",
      "1\n"
     ]
    }
   ],
   "source": [
    "num_particles = len(test_particles)\n",
    "collided = []\n",
    "for i in range(num_particles):\n",
    "    for j in range(i+1, num_particles):\n",
    "        if does_collide(i,j, test_particles):\n",
    "            collided.append(i)\n",
    "            collided.append(j)\n",
    "collided = set(collided)\n",
    "print(num_particles - len(collided))"
   ]
  },
  {
   "cell_type": "markdown",
   "metadata": {},
   "source": [
    "For some reason the above didn't work with the puzzle input, and the need to remove particles once they've collided adds extra complexity. Perhaps I should just propagate all of the particles:"
   ]
  },
  {
   "cell_type": "code",
   "execution_count": 15,
   "metadata": {},
   "outputs": [
    {
     "name": "stdout",
     "output_type": "stream",
     "text": [
      "t = 1\n",
      "[-3  0  0] [-2  0  0]\n",
      "[-3  0  0] [-1  0  0]\n",
      "[-3  0  0] [2 0 0]\n",
      "[-2  0  0] [-1  0  0]\n",
      "[-2  0  0] [2 0 0]\n",
      "[-1  0  0] [2 0 0]\n",
      "t = 2\n",
      "[0 0 0] [0 0 0]\n",
      "[0 0 0] [0 0 0]\n",
      "[0 0 0] [1 0 0]\n",
      "[0 0 0] [0 0 0]\n",
      "[0 0 0] [1 0 0]\n",
      "[0 0 0] [1 0 0]\n",
      "t = 3\n",
      "t = 4\n",
      "1\n"
     ]
    }
   ],
   "source": [
    "particles = test_particles.copy()\n",
    "for t in range(1, 5):\n",
    "    print('t = {}'.format(t))\n",
    "    collided_at_t = []\n",
    "    for p in particles:\n",
    "        p.step()\n",
    "    for pi, pj in itertools.combinations(particles, 2):\n",
    "        print(pi.r, pj.r)\n",
    "        if np.array_equal(pi.r, pj.r):\n",
    "            collided_at_t.append(pi)\n",
    "            collided_at_t.append(pj)\n",
    "    particles = [p for p in particles if p not in set(collided_at_t)]\n",
    "print(len(particles))"
   ]
  },
  {
   "cell_type": "code",
   "execution_count": 16,
   "metadata": {},
   "outputs": [
    {
     "name": "stdout",
     "output_type": "stream",
     "text": [
      "t= 1, particles = 1000\n",
      "t= 2, particles = 1000\n",
      "t= 3, particles = 1000\n",
      "t= 4, particles = 1000\n",
      "t= 5, particles = 1000\n",
      "t= 6, particles = 1000\n",
      "t= 7, particles = 1000\n",
      "t= 8, particles = 1000\n",
      "t= 9, particles = 1000\n",
      "5 particles in collision\n",
      "t= 10, particles = 995\n",
      "20 particles in collision\n",
      "t= 11, particles = 975\n",
      "2 particles in collision\n",
      "t= 12, particles = 973\n",
      "24 particles in collision\n",
      "t= 13, particles = 949\n",
      "3 particles in collision\n",
      "t= 14, particles = 946\n",
      "16 particles in collision\n",
      "t= 15, particles = 930\n",
      "26 particles in collision\n",
      "t= 16, particles = 904\n",
      "40 particles in collision\n",
      "t= 17, particles = 864\n",
      "19 particles in collision\n",
      "t= 18, particles = 845\n",
      "45 particles in collision\n",
      "t= 19, particles = 800\n",
      "33 particles in collision\n",
      "t= 20, particles = 767\n",
      "50 particles in collision\n",
      "t= 21, particles = 717\n",
      "25 particles in collision\n",
      "t= 22, particles = 692\n",
      "15 particles in collision\n",
      "t= 23, particles = 677\n",
      "27 particles in collision\n",
      "t= 24, particles = 650\n",
      "26 particles in collision\n",
      "t= 25, particles = 624\n",
      "23 particles in collision\n",
      "t= 26, particles = 601\n",
      "18 particles in collision\n",
      "t= 27, particles = 583\n",
      "13 particles in collision\n",
      "t= 28, particles = 570\n",
      "37 particles in collision\n",
      "t= 29, particles = 533\n",
      "17 particles in collision\n",
      "t= 30, particles = 516\n",
      "13 particles in collision\n",
      "t= 31, particles = 503\n",
      "16 particles in collision\n",
      "t= 32, particles = 487\n",
      "5 particles in collision\n",
      "t= 33, particles = 482\n",
      "22 particles in collision\n",
      "t= 34, particles = 460\n",
      "5 particles in collision\n",
      "t= 35, particles = 455\n",
      "t= 36, particles = 455\n",
      "t= 37, particles = 455\n",
      "3 particles in collision\n",
      "t= 38, particles = 452\n",
      "14 particles in collision\n",
      "t= 39, particles = 438\n",
      "t= 40, particles = 438\n",
      "t= 41, particles = 438\n",
      "t= 42, particles = 438\n",
      "t= 43, particles = 438\n",
      "t= 44, particles = 438\n",
      "t= 45, particles = 438\n",
      "t= 46, particles = 438\n",
      "t= 47, particles = 438\n",
      "t= 48, particles = 438\n",
      "t= 49, particles = 438\n",
      "t= 50, particles = 438\n",
      "t= 51, particles = 438\n",
      "t= 52, particles = 438\n",
      "t= 53, particles = 438\n",
      "t= 54, particles = 438\n",
      "t= 55, particles = 438\n",
      "t= 56, particles = 438\n",
      "t= 57, particles = 438\n",
      "t= 58, particles = 438\n",
      "t= 59, particles = 438\n",
      "t= 60, particles = 438\n",
      "t= 61, particles = 438\n",
      "t= 62, particles = 438\n",
      "t= 63, particles = 438\n",
      "t= 64, particles = 438\n",
      "t= 65, particles = 438\n",
      "t= 66, particles = 438\n",
      "t= 67, particles = 438\n",
      "t= 68, particles = 438\n",
      "t= 69, particles = 438\n",
      "t= 70, particles = 438\n",
      "t= 71, particles = 438\n",
      "t= 72, particles = 438\n",
      "t= 73, particles = 438\n",
      "t= 74, particles = 438\n",
      "t= 75, particles = 438\n",
      "t= 76, particles = 438\n",
      "t= 77, particles = 438\n",
      "t= 78, particles = 438\n",
      "t= 79, particles = 438\n",
      "t= 80, particles = 438\n",
      "t= 81, particles = 438\n",
      "t= 82, particles = 438\n",
      "t= 83, particles = 438\n",
      "t= 84, particles = 438\n",
      "t= 85, particles = 438\n",
      "t= 86, particles = 438\n",
      "t= 87, particles = 438\n",
      "t= 88, particles = 438\n",
      "t= 89, particles = 438\n",
      "t= 90, particles = 438\n",
      "t= 91, particles = 438\n",
      "t= 92, particles = 438\n",
      "t= 93, particles = 438\n",
      "t= 94, particles = 438\n",
      "t= 95, particles = 438\n",
      "t= 96, particles = 438\n",
      "t= 97, particles = 438\n",
      "t= 98, particles = 438\n",
      "t= 99, particles = 438\n",
      "t= 100, particles = 438\n",
      "t= 101, particles = 438\n",
      "t= 102, particles = 438\n",
      "t= 103, particles = 438\n",
      "t= 104, particles = 438\n",
      "t= 105, particles = 438\n",
      "t= 106, particles = 438\n",
      "t= 107, particles = 438\n",
      "t= 108, particles = 438\n",
      "t= 109, particles = 438\n",
      "t= 110, particles = 438\n",
      "t= 111, particles = 438\n",
      "t= 112, particles = 438\n",
      "t= 113, particles = 438\n",
      "t= 114, particles = 438\n",
      "t= 115, particles = 438\n",
      "t= 116, particles = 438\n",
      "t= 117, particles = 438\n",
      "t= 118, particles = 438\n",
      "t= 119, particles = 438\n",
      "t= 120, particles = 438\n",
      "t= 121, particles = 438\n",
      "t= 122, particles = 438\n",
      "t= 123, particles = 438\n",
      "t= 124, particles = 438\n",
      "t= 125, particles = 438\n",
      "t= 126, particles = 438\n",
      "t= 127, particles = 438\n",
      "t= 128, particles = 438\n",
      "t= 129, particles = 438\n",
      "t= 130, particles = 438\n",
      "t= 131, particles = 438\n",
      "t= 132, particles = 438\n",
      "t= 133, particles = 438\n",
      "t= 134, particles = 438\n",
      "t= 135, particles = 438\n",
      "t= 136, particles = 438\n",
      "t= 137, particles = 438\n",
      "t= 138, particles = 438\n",
      "t= 139, particles = 438\n",
      "t= 140, particles = 438\n",
      "t= 141, particles = 438\n",
      "t= 142, particles = 438\n",
      "t= 143, particles = 438\n",
      "t= 144, particles = 438\n",
      "t= 145, particles = 438\n",
      "t= 146, particles = 438\n",
      "t= 147, particles = 438\n",
      "t= 148, particles = 438\n",
      "t= 149, particles = 438\n",
      "t= 150, particles = 438\n",
      "t= 151, particles = 438\n",
      "t= 152, particles = 438\n",
      "t= 153, particles = 438\n",
      "t= 154, particles = 438\n",
      "t= 155, particles = 438\n",
      "t= 156, particles = 438\n",
      "t= 157, particles = 438\n",
      "t= 158, particles = 438\n",
      "t= 159, particles = 438\n",
      "t= 160, particles = 438\n",
      "t= 161, particles = 438\n",
      "t= 162, particles = 438\n",
      "t= 163, particles = 438\n",
      "t= 164, particles = 438\n",
      "t= 165, particles = 438\n",
      "t= 166, particles = 438\n",
      "t= 167, particles = 438\n",
      "t= 168, particles = 438\n",
      "t= 169, particles = 438\n",
      "t= 170, particles = 438\n",
      "t= 171, particles = 438\n",
      "t= 172, particles = 438\n",
      "t= 173, particles = 438\n",
      "t= 174, particles = 438\n",
      "t= 175, particles = 438\n",
      "t= 176, particles = 438\n",
      "t= 177, particles = 438\n",
      "t= 178, particles = 438\n",
      "t= 179, particles = 438\n",
      "t= 180, particles = 438\n",
      "t= 181, particles = 438\n",
      "t= 182, particles = 438\n",
      "t= 183, particles = 438\n",
      "t= 184, particles = 438\n",
      "t= 185, particles = 438\n",
      "t= 186, particles = 438\n",
      "t= 187, particles = 438\n",
      "t= 188, particles = 438\n",
      "t= 189, particles = 438\n",
      "t= 190, particles = 438\n",
      "t= 191, particles = 438\n",
      "t= 192, particles = 438\n",
      "t= 193, particles = 438\n",
      "t= 194, particles = 438\n",
      "t= 195, particles = 438\n",
      "t= 196, particles = 438\n",
      "t= 197, particles = 438\n",
      "t= 198, particles = 438\n",
      "t= 199, particles = 438\n"
     ]
    }
   ],
   "source": [
    "particles = puzzle_particles.copy()\n",
    "for t in range(1, 200):\n",
    "    collided_at_t = []\n",
    "    for p in particles:\n",
    "        p.step()\n",
    "    for pi, pj in itertools.combinations(particles, 2):\n",
    "        if np.array_equal(pi.r, pj.r):\n",
    "            collided_at_t.append(pi)\n",
    "            collided_at_t.append(pj)\n",
    "    if collided_at_t:\n",
    "        print('{} particles in collision'.format(len(set(collided_at_t))))\n",
    "    particles = [p for p in particles if p not in set(collided_at_t)]\n",
    "    print('t= {}, particles = {}'.format(t,len(particles)))\n"
   ]
  },
  {
   "cell_type": "code",
   "execution_count": null,
   "metadata": {},
   "outputs": [],
   "source": []
  }
 ],
 "metadata": {
  "kernelspec": {
   "display_name": "py36",
   "language": "python",
   "name": "py36"
  },
  "language_info": {
   "codemirror_mode": {
    "name": "ipython",
    "version": 3
   },
   "file_extension": ".py",
   "mimetype": "text/x-python",
   "name": "python",
   "nbconvert_exporter": "python",
   "pygments_lexer": "ipython3",
   "version": "3.6.3"
  }
 },
 "nbformat": 4,
 "nbformat_minor": 2
}
